{
 "cells": [
  {
   "cell_type": "markdown",
   "metadata": {},
   "source": [
    "# Taller Estadística para Data Science\n",
    "\n",
    "Docente: Melanie Oyarzún\n",
    "\n",
    "E-Mail: moyarzunw@udd.cl\n",
    "\n",
    "Fecha: 12 agosto 2023\n",
    "\n",
    "---"
   ]
  },
  {
   "cell_type": "markdown",
   "metadata": {},
   "source": [
    "## Generalidades\n",
    "\n",
    "\n",
    "### Descripción\n",
    "El taller se divide en dos bloques, cada uno tiene un notebook que lo acompaña.\n",
    "\n",
    "- El primer bloque revisaremos conceptos claves de la estadística y su aplicación concreta en análisis exploratorio de datos. [ Link Notebook bloque 1](https://github.com/melanieoyarzun/taller_estadisticaDS/blob/main/actividad_tallerSTATSIDS.ipynb)\n",
    "\n",
    "- En el segundo bloque revisaremos conceptos asociados a la inferencia estadística y su aplicación en pruebas de hipotesis y experimentos aleatorios.\n",
    "[ Link Notebook bloque 2](https://github.com/melanieoyarzun/taller_estadisticaDS/blob/main/bloque2-tallerSTATSIDS_inferencia.ipynb)\n",
    "\n",
    "### Evaluación\n",
    "\n",
    "Durante ambos bloques trabajaremos en una actividad de ejercitación que será evaluada, este puede ser de manera individual o en grupo de hasta 3 personas.  El enunciado estaá disponible en [link actividad](https://github.com/melanieoyarzun/taller_estadisticaDS/blob/main/actividad_tallerSTATSIDS.ipynb)\n",
    "\n",
    "- La entrega es hasta el día lunes 28 AGO en el correo: moyarzunw@udd.cl,\n",
    "- Enviar por correo con el asunto: Tarea taller serie de tiempo IDS, nombre apellido\n",
    "- El notebook debe tener el nombre: Notebook- taller-aplicacion-nombre-apellido.ipnyb,\n",
    "- Tambien puede enviarme un link en github si está publico o me concede acceso.\n",
    "\n",
    "---"
   ]
  },
  {
   "cell_type": "markdown",
   "metadata": {},
   "source": [
    "# Bloque 2: Inferencia estadística y experimentos alteatorios"
   ]
  }
 ],
 "metadata": {
  "language_info": {
   "name": "python"
  },
  "orig_nbformat": 4
 },
 "nbformat": 4,
 "nbformat_minor": 2
}
