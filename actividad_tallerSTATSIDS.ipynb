{
 "cells": [
  {
   "cell_type": "markdown",
   "metadata": {},
   "source": [
    "# Actividad Evaluada Taller Estadística para Data Science\n",
    "\n",
    "NOMBRE:\n",
    "\n",
    "Correo electrónico:\n",
    "\n",
    "\n",
    "Instrucciones\n",
    "\n",
    "Desarrolle en un notebook los siguientes análisis, este puede ser de manera individual o en grupo de hasta 3 personas.\n",
    "\n",
    "- Realice una copia de este archivo, cambiele el nombre y edítela directamente.\n",
    "- Apóyese en el resto de material disponible, si tiene dudas puede realizarlas al correo moyarzunw@udd.cl con el asunto \"Dudas taller estadistica IDS\"\n",
    "- La entrega es hasta el día lunes 28 AGO en el correo: moyarzunw@udd.cl,\n",
    "- Enviar por correo con el asunto: Tarea taller serie de tiempo IDS, nombre apellido\n",
    "- El notebook debe tener el nombre: Notebook- taller-alicacion-nombre-apellido.ipnyb,\n",
    "- Tambien puede enviarme un link en github si está publico o me concede acceso.\n",
    "---\n"
   ]
  },
  {
   "cell_type": "markdown",
   "metadata": {},
   "source": [
    "## Evaluación:\n",
    "\n",
    "El taller será evaluado con nota 1 a 7, en base al notebook enviado. La pauta de evaluación es la siguiente:\n",
    "\n",
    "- Punto base (1pt)\n",
    "- Entrega a tiempo y ordenada (1pt)\n",
    "- Entrega completa de la actividad desarrollada, independiente de los resultadps (2pts)\n",
    "- Resultados correctos (2pts)\n",
    "- Integridad del codigo: Se refiere a que el codigo se pueda ejecutar sin intervencion del docente (1pts)"
   ]
  },
  {
   "cell_type": "markdown",
   "metadata": {},
   "source": [
    "## Generalidades\n",
    "\n",
    "**Resultados de aprendizaje esperado:**\n",
    "\n",
    "- Describir exploratoriamente un conjunto de datps, para extraer características claves del fenómeno que permita su modelamiento.\n",
    "\n",
    "- \n",
    "\n",
    "**Bibliografía recomendada:**\n",
    "\n",
    "\n",
    "**Material de apoyo**\n",
    "\n",
    "El taller cuenta con un repositorio https://github.com/melanieoyarzun/taller_estadisticaDS_IDS23 en el cual está dispoinible todo el material."
   ]
  },
  {
   "cell_type": "markdown",
   "metadata": {},
   "source": [
    "Actividad Bloque 1:\n",
    "\n",
    "Utilizaremos el conjunto de datos \"Penguins\". Este es un conjunto de datos popular que se incluye en la librería Seaborn. Este conjunto de datos contiene información que fue recopilada sobre diferentes especies de pingüinos, incluyendo detalles como las medidas morfológicas de los pingüinos y la especie a la que pertenecen.\n",
    "\n",
    "El conjunto de datos \"Penguins\" fue recopilado por el ecologista marino Dr. Bill Link y su equipo de investigadores. Fue utilizado originalmente en un estudio de investigación para analizar patrones de anidación y supervivencia de pingüinos en la isla de Torgersen, cerca de la base Palmer de Estados Unidos en la Antártida. Los datos se obtuvieron a través de observaciones en el campo y mediciones de las características físicas de los pingüinos.\n",
    "\n",
    "Disponible en: https://github.com/allisonhorst/palmerpenguins\n",
    "\n",
    "El conjunto de datos consta de las siguientes columnas:\n",
    "\n",
    "- species: La especie de pingüino, que puede ser \"Adelie\", \"Chinstrap\" o \"Gentoo\".\n",
    "- island: La isla en la que se encontraron los pingüinos (\"Biscoe\", \"Dream\" o \"Torgersen\").\n",
    "- bill_length_mm: La longitud del pico del pingüino en milímetros.\n",
    "- bill_depth_mm: La profundidad del pico del pingüino en milímetros.\n",
    "- flipper_length_mm: La longitud de la aleta del pingüino en milímetros.\n",
    "- body_mass_g: La masa corporal del pingüino en gramos.\n",
    "- sex: El género del pingüino.\n",
    "\n",
    "Estos datos permiten explorar relaciones entre las medidas morfológicas de los pingüinos y su especie, así como su género y la isla en la que se encuentran. El conjunto de datos es utilizado comúnmente para ejemplificar técnicas de visualización y análisis de datos en Seaborn y otras librerías.\n",
    "\n",
    "El objetivo de analizar estos datos es entender cómo las diferentes medidas morfológicas pueden variar entre especies y cómo estas características pueden estar relacionadas con otros aspectos de los pingüinos, como su género y su hábitat.\n",
    "\n",
    "\n",
    "1. Considere las caracteristicas bill_length_mm, bill_depth_mm, flipper_length_mm y body_mass_g.\n",
    "   1. Describa su tendencia central.\n",
    "   2. Describa su variabilidad\n",
    "   3.  Realice graficos para describir la distribucion de cada caracteristicas.\n",
    "2. Elija una de las caracteristicas y realicemos comparaciones entre los diferentes tipos de pinguinos.\n",
    "3. Elija dos de las caracetiristicas y haga un grafico de dispersion entre ellas y calcule la covarianza y coeficiente de correlación. Interprete. \n",
    "4. Repita para los diferentes tipos de pinguinos.¿Se mantienen los resultados anteriores? Compaere."
   ]
  },
  {
   "cell_type": "markdown",
   "metadata": {},
   "source": [
    "Actividad Bloque 2:\n",
    "\n",
    "Imaginemos que trabajamos en una empresa de e-commerce que vende productos electrónicos y queremos aumentar las ventas en una línea de productos específica, como teléfonos móviles. \n",
    "\n",
    "Para ello, decidimos utilizar una promoción de ventas basada en una ruleta lúdica que ofrecerá descuentos a los clientes que la utilicen.\n",
    "\n",
    "Para implementar la promoción, primero seleccionamos aleatoriamente un grupo de clientes y les enviamos un correo electrónico con un enlace a la ruleta lúdica. Al hacer clic en el enlace, los clientes son redirigidos a una página en la que pueden girar la ruleta y ganar un descuento en su próxima compra.\n",
    "\n",
    " \n",
    "Vamos a pensar que los clientes son asignados a uno de los siguientes grupos: \n",
    "- Control: no les da una promoción (mala suerte, intentalo otra vez)\n",
    "- Tratamiento 1: 20% de descuento en el producto\n",
    "- Tratamiento 2: Un complemento gratuito (carcasa) que tiene un costo para la empresa similar al descuento.\n",
    "\n",
    "Una vez que la promoción ha estado en marcha durante un tiempo suficiente, el equipo a cargo recopilará los datos de ventas de la línea de productos de teléfonos móviles durante el período de la promoción. A continuación, dividirán los clientes en tres grupos: los dos grupos de tratamiento, que utilizó la ruleta lúdica y recibió un descuento en su compra, y el grupo de control, que utilizó la ruleta y no obtuvo descuentos ni promociones. Así, se puede calcular la cantidad de veces que se realizaron compras.\n",
    "\n",
    "\n",
    "1. describa los resultados de la promocion para losn diferentes grupos, en terminos de estadisticas descriptovas.\n",
    "2. Compare visualmente los resultados de los diferentes grupos.\n",
    "3. ¿Fue la promocion efectiva? Use una prueba de hipotesis para analizar ek grupo tratado y de control.\n",
    "4. ¿Cual de las promociones fue más efectiva? Use una prueba ANOVA."
   ]
  }
 ],
 "metadata": {
  "language_info": {
   "name": "python"
  },
  "orig_nbformat": 4
 },
 "nbformat": 4,
 "nbformat_minor": 2
}
