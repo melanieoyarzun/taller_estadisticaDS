{
 "cells": [
  {
   "cell_type": "markdown",
   "metadata": {},
   "source": [
    "# Taller Estadística para Data Science\n",
    "\n",
    "Docente: Melanie Oyarzún\n",
    "\n",
    "E-Mail: moyarzunw@udd.cl\n",
    "\n",
    "Fecha: 12 agosto 2023\n",
    "\n",
    "---"
   ]
  },
  {
   "cell_type": "markdown",
   "metadata": {},
   "source": [
    "## Generalidades\n",
    "\n",
    "\n",
    "### Descripción\n",
    "El taller se divide en dos bloques, cada uno tiene un notebook que lo acompaña.\n",
    "\n",
    "- El primer bloque revisaremos conceptos claves de la estadística y su aplicación concreta en análisis exploratorio de datos. [ Link Notebook bloque 1](https://github.com/melanieoyarzun/taller_estadisticaDS/blob/main/actividad_tallerSTATSIDS.ipynb)\n",
    "\n",
    "- En el segundo bloque revisaremos conceptos asociados a la inferencia estadística y su aplicación en pruebas de hipotesis y experimentos aleatorios.\n",
    "[ Link Notebook bloque 2](https://github.com/melanieoyarzun/taller_estadisticaDS/blob/main/bloque2-tallerSTATSIDS_inferencia.ipynb)\n",
    "\n",
    "### Evaluación\n",
    "\n",
    "Durante ambos bloques trabajaremos en una actividad de ejercitación que será evaluada, este puede ser de manera individual o en grupo de hasta 3 personas.  El enunciado estaá disponible en [link actividad](https://github.com/melanieoyarzun/taller_estadisticaDS/blob/main/actividad_tallerSTATSIDS.ipynb)\n",
    "\n",
    "- La entrega es hasta el día lunes 28 AGO en el correo: moyarzunw@udd.cl,\n",
    "- Enviar por correo con el asunto: Tarea taller serie de tiempo IDS, nombre apellido\n",
    "- El notebook debe tener el nombre: Notebook- taller-aplicacion-nombre-apellido.ipnyb,\n",
    "- Tambien puede enviarme un link en github si está publico o me concede acceso.\n",
    "\n",
    "---"
   ]
  },
  {
   "cell_type": "markdown",
   "metadata": {},
   "source": [
    "## Sección 1: Abstrayendo y modelando la realidad\n",
    "\n",
    "En esta primera parte, revisaremos en acción algunos de los principios que tienen quer con el proceso de abtracción de la realidad mediante variables aletaorias y su descripción.\n",
    "\n",
    "Podemos ver algunos principios en acción a través de **simulaciones**"
   ]
  },
  {
   "cell_type": "markdown",
   "metadata": {},
   "source": [
    "# Estadística\n",
    "\n",
    "## Conceptos fundamentales\n",
    "\n",
    "* **Fenomeno:** Cualquier ocurrencia o hecho en la naturaleza que es observable y medible.\n",
    "* **Fenomeno Deterministico:** Su comportamiento (resultado) esta completamente determinado por las condiciones en las que el fenomeno ocurre.\n",
    "\n",
    " -  Ej: La distancia (D) recorrida por un movil que se desplaza a velocidad constante es $D=vt$, donde v representa la velocidad y t representa el tiempo de desplazamiento.\n",
    "\n",
    "\n",
    "* **Fenomeno Aleatorio** (no-deterministico estocastico, probabilistico): Su comportamiento no esta completamentamente determinado por las condiciones en las que el fenomeno ocurre.\n",
    "\n",
    "    -  Dadas ciertas condiciones iniciales (entradas) y ciertas acciones, el resultado es incierto, puede ser cualquier elemento de un set de posibles resultados.\n",
    "\n",
    "    - Ejemplos:  \n",
    "        -   Al lanzar una moneda al aire, parece ser el caso que no existen condiciones iniciales o informacion alguna que permita predecir si el resultado sera cara o sello.\n",
    "        - Cuando se lanza un dado, el resultado puede ser cualquiera de las 6 caras, pero no se sabe exactamente cual.\n",
    "        - ¿Es predecible el tiempo exacto que toma el viaje de la casa a la universidad?\n",
    "\n",
    "* **Experimento:** procedimiento que puede repetirse infinitas veces y que tiene un conjunto de resultados bien definidos (se le llama el *espacio muestral*)\n",
    "\n",
    "* **Trial o realización:** corresponde a una instancia del experimento\n",
    "\n",
    "* **Outcome:** Corresponde aun resultado posible observado en el experimento\n",
    "\n",
    "    - Ej: lanzar un dado puede resultar en $1$, $2$, $3$, $4$, $5$ o $6$ puntos por lo cual esl esoacuio muestral\n",
    "\n",
    "\n",
    "* **Variable aleatoria:** una regla (o funcion) que asigna un valor numerico a cada resultado posible del experimento.\n",
    "\n",
    "- Ej:  Se define variable aleatoria X = número de puntos en la cara del dado que resulta del lanzamiento \n",
    "    - $X = {1, 2, 3, 4, 5, 6} $\n",
    "\n",
    "Las variables aleatorias pueden ser de dos tipos:\n",
    "\n",
    "- Discretas: Toma número finito (o infinito pero contable) de valores.\n",
    "\n",
    "- Continuas: Toma cantidad de valores imposibles de contar."
   ]
  },
  {
   "cell_type": "markdown",
   "metadata": {},
   "source": [
    "\n",
    "## Probabilidad\n",
    "\n",
    "### Función de Distribución de probabilidad\n",
    "(Caso discreto)\n",
    "\n",
    "- Función de Distribución de probabilidad o fdp.\n",
    "- es una función que asigna una probabilidad a cada valor $x_{j}$ de la variable aleatoria X\n",
    "- Se denomina $f(x_{j})$\n",
    "\n",
    "$$f(x_{j}) = p_{j} = P(X = x_{j}) = P(x_{j})$$\n",
    "\n",
    "- $f(x_{j})$ se puede expresar como una fórmula, un gráfico, o una tabla.\n",
    "\n",
    "\n",
    "\n",
    "Por ejemplo, pensemos en **lanzar un dado**:\n",
    "\n",
    "![lanzar dados](https://www.dropbox.com/s/r10rcdgn7i0awr0/dice2.gif?raw=1)\n",
    "\n",
    "Podemos describir lo que podría ocurrir con las funciones de variable aletoria $x$ y de probabilidad $f(x)$:\n",
    "\n",
    "![Descripcion funcion va, prob e histograma lanzar 1 dado](https://www.dropbox.com/s/d1i5bmjkdqq0920/dados.png?raw=1)\n",
    "\n",
    "#### Propiedades de la probabilidad\n",
    "\n",
    "La función de probabilidad tiene ciertas propiedades particulares:\n",
    "\n",
    "- $0 \\leq P(x_{j}) \\leq 1$\n",
    "- $\\sum _{j} P(x_{j})=1$\n",
    "- $P(x_{-j})=1-P(x_{j})$\n",
    " \n",
    "\n",
    "Cuando los valores de X son eventos mutuamente excluyentes, entonces:\n",
    "$$ P(X=a \\quad \\text{o} \\quad X=b)=P(a)+P(b) $$\n",
    "\n",
    "\n",
    "### Función de Densidad Acumulada:\n",
    "\n",
    "\n",
    "Función de Densidad Acumulada o fda.\n",
    "- Denominada F(x).\n",
    "- Regla que especifica, para cada valor x, la probabilidad que $X \\leq x$:\n",
    "$$ F(X) =  \\sum_{j} P(X \\leq x_{j}) = P(1)+P(2)+\\dots+P(X) $$\n",
    "\n",
    "- Ej: lanzamiento de dado. ¿Cuál es la probabilidad que uno lance un dado y obtenga 3 puntos o menos?\n",
    "\n",
    "$$ F(3) =  P(X \\leq 3) = P(1)+P(2)+P(3)= \\frac{1}{6}+ \\frac{1}{6}+ \\frac{1}{6} = \\frac{1}{2} $$\n"
   ]
  },
  {
   "cell_type": "markdown",
   "metadata": {},
   "source": [
    "### Simulaciones usando el paquete `random`"
   ]
  },
  {
   "cell_type": "markdown",
   "metadata": {},
   "source": [
    "Para un experimento en un espacio muestral finito S, el paquete `random` nos provee varias funciones que pueden simular una o muchas realizaciones de un experimento.\n",
    "\n",
    "La primera función es `sample()`\n",
    "\n",
    "`random.sample(population, k)`\n",
    "\n",
    "La función `sample()` selecciona elementos de una \"bolsa\" de resultados, en la que cada elemento tiene la misma probabilidad asociada.\n",
    "\n",
    "\n",
    "Donde los argumentos principales son:\n",
    "\n",
    "- `population`: La colección de la cual se tomarán las muestras.\n",
    "- `k`: El número de muestras que se desean obtener."
   ]
  },
  {
   "cell_type": "code",
   "execution_count": 1,
   "metadata": {},
   "outputs": [
    {
     "name": "stdout",
     "output_type": "stream",
     "text": [
      "[1]\n"
     ]
    }
   ],
   "source": [
    "import random\n",
    "\n",
    "dado = random.sample(range(1, 6), 1)\n",
    "print(dado)"
   ]
  },
  {
   "cell_type": "code",
   "execution_count": 7,
   "metadata": {},
   "outputs": [
    {
     "name": "stdout",
     "output_type": "stream",
     "text": [
      "[4, 5, 3]\n"
     ]
    }
   ],
   "source": [
    "tres_dados = random.sample(range(1, 6), k=3)\n",
    "print(tres_dados)"
   ]
  },
  {
   "cell_type": "markdown",
   "metadata": {},
   "source": [
    "Observar que los 3 dados elegidos son diferentes, esto es porque no estamos operando con reemplazo. \n",
    "Si pedimos más de 10 números nos dará un error:"
   ]
  },
  {
   "cell_type": "code",
   "execution_count": 8,
   "metadata": {},
   "outputs": [
    {
     "ename": "ValueError",
     "evalue": "Sample larger than population or is negative",
     "output_type": "error",
     "traceback": [
      "\u001b[0;31m---------------------------------------------------------------------------\u001b[0m",
      "\u001b[0;31mValueError\u001b[0m                                Traceback (most recent call last)",
      "\u001b[1;32m/Users/melita/Library/CloudStorage/Dropbox/Asuntos UDD/2023- sem2/Taller - IDS - remedial estadisticas para data sciences/taller_IDS_estatistica_materia.ipynb Celda 10\u001b[0m in \u001b[0;36m<cell line: 1>\u001b[0;34m()\u001b[0m\n\u001b[0;32m----> <a href='vscode-notebook-cell:/Users/melita/Library/CloudStorage/Dropbox/Asuntos%20UDD/2023-%20sem2/Taller%20-%20IDS%20-%20remedial%20estadisticas%20para%20data%20sciences/taller_IDS_estatistica_materia.ipynb#W5sZmlsZQ%3D%3D?line=0'>1</a>\u001b[0m tres_dados \u001b[39m=\u001b[39m random\u001b[39m.\u001b[39;49msample(\u001b[39mrange\u001b[39;49m(\u001b[39m1\u001b[39;49m, \u001b[39m6\u001b[39;49m), k\u001b[39m=\u001b[39;49m\u001b[39m10\u001b[39;49m)\n\u001b[1;32m      <a href='vscode-notebook-cell:/Users/melita/Library/CloudStorage/Dropbox/Asuntos%20UDD/2023-%20sem2/Taller%20-%20IDS%20-%20remedial%20estadisticas%20para%20data%20sciences/taller_IDS_estatistica_materia.ipynb#W5sZmlsZQ%3D%3D?line=1'>2</a>\u001b[0m \u001b[39mprint\u001b[39m(tres_dados)\n",
      "File \u001b[0;32m~/.pyenv/versions/3.9.1/lib/python3.9/random.py:449\u001b[0m, in \u001b[0;36mRandom.sample\u001b[0;34m(self, population, k, counts)\u001b[0m\n\u001b[1;32m    447\u001b[0m randbelow \u001b[39m=\u001b[39m \u001b[39mself\u001b[39m\u001b[39m.\u001b[39m_randbelow\n\u001b[1;32m    448\u001b[0m \u001b[39mif\u001b[39;00m \u001b[39mnot\u001b[39;00m \u001b[39m0\u001b[39m \u001b[39m<\u001b[39m\u001b[39m=\u001b[39m k \u001b[39m<\u001b[39m\u001b[39m=\u001b[39m n:\n\u001b[0;32m--> 449\u001b[0m     \u001b[39mraise\u001b[39;00m \u001b[39mValueError\u001b[39;00m(\u001b[39m\"\u001b[39m\u001b[39mSample larger than population or is negative\u001b[39m\u001b[39m\"\u001b[39m)\n\u001b[1;32m    450\u001b[0m result \u001b[39m=\u001b[39m [\u001b[39mNone\u001b[39;00m] \u001b[39m*\u001b[39m k\n\u001b[1;32m    451\u001b[0m setsize \u001b[39m=\u001b[39m \u001b[39m21\u001b[39m        \u001b[39m# size of a small set minus size of an empty list\u001b[39;00m\n",
      "\u001b[0;31mValueError\u001b[0m: Sample larger than population or is negative"
     ]
    }
   ],
   "source": [
    "tres_dados = random.sample(range(1, 6), k=10)\n",
    "print(tres_dados)"
   ]
  },
  {
   "cell_type": "markdown",
   "metadata": {},
   "source": [
    "La solución es usar la función choices(), en lugar de sample(), que tiene más opcipnes:\n",
    "\n",
    "La función random.choices() permite especificar pesos personalizados para los elementos utilizando el parámetro weights. Si no se proporcionan pesos, se asumirá una probabilidad uniforme entre los elementos.\n",
    "\n",
    "Por otro lado, la función random.sample() no permite asignar pesos directamente. Genera muestras únicas sin reemplazo a partir de la población dada.\n",
    "\n",
    "\n",
    "\n",
    "\n",
    "La sintaxis de `choices()` en Python es:\n",
    "\n",
    "`random.choices(population, weights=None, k=1)`\n",
    "\n",
    "Donde los argumentos son:\n",
    "\n",
    "`population`: Es la colección de la cual se tomarán las muestras.\n",
    "`weights`: Una lista de pesos o probabilidades asociadas a los elementos de la población. Debe ser una lista de valores no negativos. Si no se proporciona, se asumirán pesos uniformes, lo que significa que cada elemento tiene la misma probabilidad de ser seleccionado.\n",
    "`k`: El número de muestras que deseamos obtener.\n",
    "\n",
    "Simulemos el lanzamiento de un dado: "
   ]
  },
  {
   "cell_type": "code",
   "execution_count": 11,
   "metadata": {},
   "outputs": [
    {
     "name": "stdout",
     "output_type": "stream",
     "text": [
      "[3, 1, 5, 4, 5, 6, 1, 2, 4, 2]\n"
     ]
    }
   ],
   "source": [
    "diez_dados = random.choices(range(1, 7), k=10)\n",
    "print(diez_dados)"
   ]
  },
  {
   "cell_type": "markdown",
   "metadata": {},
   "source": [
    "La esperanza de un dado de seis caras es "
   ]
  },
  {
   "cell_type": "markdown",
   "metadata": {},
   "source": [
    "Probemos un evento más complejo:\n",
    "Suponga que va a tirar 3 dados. Estime la probabilidad de que el número más grande en la tirada sea un 4."
   ]
  },
  {
   "cell_type": "code",
   "execution_count": 12,
   "metadata": {},
   "outputs": [
    {
     "data": {
      "text/plain": [
       "[2, 1, 3]"
      ]
     },
     "execution_count": 12,
     "metadata": {},
     "output_type": "execute_result"
    }
   ],
   "source": [
    "tres_dados = random.choices(range(1, 7), k=3)  # Lanzar 3 dados\n",
    "tres_dados"
   ]
  },
  {
   "cell_type": "code",
   "execution_count": 13,
   "metadata": {},
   "outputs": [
    {
     "data": {
      "text/plain": [
       "False"
      ]
     },
     "execution_count": 13,
     "metadata": {},
     "output_type": "execute_result"
    }
   ],
   "source": [
    "max(tres_dados)==4"
   ]
  },
  {
   "cell_type": "markdown",
   "metadata": {},
   "source": [
    "Pero este es el ejemplo de solo una repetición, con esto no sabemos que pasaría si repitieramos muchas veces el experimento.\n",
    "\n",
    "En este código Python, hemos replicado el proceso 10000 veces. En cada repetición, lanzamos 3 dados y comprobamos si el valor máximo es igual a 4. \n",
    "\n",
    "Luego, almacenamos el resultado de esta comprobación en la lista eventos. Finalmente, calculamos la probabilidad dividiendo el número de veces que el evento ocurrió entre el número total de repeticiones, y lo imprimimos en la consola."
   ]
  },
  {
   "cell_type": "code",
   "execution_count": null,
   "metadata": {},
   "outputs": [],
   "source": [
    "num_repeticiones = 10000\n",
    "eventos = []\n",
    "\n",
    "for _ in range(num_repeticiones):\n",
    "    dados = random.choices(range(1, 7), k=3)  # Lanzar 3 dados\n",
    "    eventos.append(max(dados) == 4)  # Probar si el evento ocurrió\n",
    "\n",
    "probabilidad_evento = sum(eventos) / num_repeticiones\n",
    "print(probabilidad_evento)"
   ]
  },
  {
   "cell_type": "markdown",
   "metadata": {},
   "source": [
    "# Sección 2: Análisis exploratorio de datos\n",
    "\n",
    "En esra segunda sección vamos a realizar análisis exploratorio de datos.\n",
    "\n",
    "Vamos a cargar un data set en Pandas, el paquete por excelencia para trabajo con *dataframes* en Python.\n",
    "\n",
    "Este archivo podríamos descargarlo y leerlo de manera local, y también existe la posibilidad de leerlo online.  Ahora, ejecutemos el siguiente trozo de código para leer un primer dataset simple, que está almacenado en mi github.\n",
    "\n"
   ]
  },
  {
   "cell_type": "code",
   "execution_count": 2,
   "metadata": {},
   "outputs": [],
   "source": [
    "%matplotlib inline\n",
    "\n",
    "from pathlib import Path\n",
    "\n",
    "import pandas as pd\n",
    "import numpy as np\n",
    "\n",
    "\n",
    "import seaborn as sns\n",
    "import matplotlib.pylab as plt"
   ]
  },
  {
   "cell_type": "code",
   "execution_count": 3,
   "metadata": {},
   "outputs": [
    {
     "name": "stdout",
     "output_type": "stream",
     "text": [
      "        Estado  habitantes  Tasa.Homicidio Sigla\n",
      "0      Alabama     4779736             5.7    AL\n",
      "1       Alaska      710231             5.6    AK\n",
      "2      Arizona     6392017             4.7    AZ\n",
      "3     Arkansas     2915918             5.6    AR\n",
      "4   California    37253956             4.4    CA\n",
      "5     Colorado     5029196             2.8    CO\n",
      "6  Connecticut     3574097             2.4    CT\n",
      "7     Delaware      897934             5.8    DE\n"
     ]
    }
   ],
   "source": [
    "\n",
    "state = pd.read_csv('https://raw.githubusercontent.com/vmlandae/datasets_eds/main/clase1/state_modificado.csv', sep=\";\")\n",
    "print(state.head(8))"
   ]
  },
  {
   "cell_type": "markdown",
   "metadata": {},
   "source": [
    "## Análisis univariado\n",
    "\n",
    "Vamos a explorar y describir una única variable, en este caso el número de habitantes."
   ]
  },
  {
   "cell_type": "markdown",
   "metadata": {},
   "source": [
    "## Tendencia central"
   ]
  },
  {
   "cell_type": "markdown",
   "metadata": {},
   "source": [
    "Media muestral"
   ]
  },
  {
   "cell_type": "code",
   "execution_count": 4,
   "metadata": {},
   "outputs": [
    {
     "name": "stdout",
     "output_type": "stream",
     "text": [
      "6162876.3\n"
     ]
    }
   ],
   "source": [
    "print(state['habitantes'].mean())\n"
   ]
  },
  {
   "cell_type": "markdown",
   "metadata": {},
   "source": [
    "Mediana muestral"
   ]
  },
  {
   "cell_type": "code",
   "execution_count": 5,
   "metadata": {},
   "outputs": [
    {
     "name": "stdout",
     "output_type": "stream",
     "text": [
      "4436369.5\n"
     ]
    }
   ],
   "source": [
    "print(state['habitantes'].median())"
   ]
  },
  {
   "cell_type": "markdown",
   "metadata": {},
   "source": [
    "## Variabilidad"
   ]
  },
  {
   "cell_type": "markdown",
   "metadata": {},
   "source": [
    "Desviación estándar"
   ]
  },
  {
   "cell_type": "code",
   "execution_count": null,
   "metadata": {},
   "outputs": [],
   "source": [
    "print(state['habitantes'].std())"
   ]
  },
  {
   "cell_type": "markdown",
   "metadata": {},
   "source": [
    "Varianza"
   ]
  },
  {
   "cell_type": "code",
   "execution_count": null,
   "metadata": {},
   "outputs": [],
   "source": [
    "print(state['habitantes'].std())"
   ]
  },
  {
   "cell_type": "markdown",
   "metadata": {},
   "source": [
    "Rango interquatil"
   ]
  },
  {
   "cell_type": "code",
   "execution_count": null,
   "metadata": {},
   "outputs": [],
   "source": [
    "q1 = state.habitantes.quantile(0.25)\n",
    "q3 = state.habitantes.quantile(0.75)\n",
    "IQR= q3 - q1\n",
    "print(IQR)"
   ]
  },
  {
   "cell_type": "markdown",
   "metadata": {},
   "source": [
    "# Distribución\n",
    "\n",
    "Para ver la diribución de una variable, podemos tomar aproximaciones graficas. Vamos a revisar las principales: Histogramas, boxplot, violin plots."
   ]
  },
  {
   "cell_type": "code",
   "execution_count": 6,
   "metadata": {},
   "outputs": [
    {
     "name": "stdout",
     "output_type": "stream",
     "text": [
      "(1599, 12)\n",
      "Index(['fixed acidity', 'volatile acidity', 'citric acid', 'residual sugar',\n",
      "       'chlorides', 'free sulfur dioxide', 'total sulfur dioxide', 'density',\n",
      "       'pH', 'sulphates', 'alcohol', 'quality'],\n",
      "      dtype='object')\n"
     ]
    }
   ],
   "source": [
    "# Leyendo el dataset e inspeccionando dimensiones y el nombre de las columnas\n",
    "df = pd.read_csv('https://raw.githubusercontent.com/vmlandae/datasets_eds/main/clase2/winequality-red.csv', sep=';')\n",
    "print(df.shape)\n",
    "print(df.columns)"
   ]
  },
  {
   "cell_type": "code",
   "execution_count": 7,
   "metadata": {},
   "outputs": [
    {
     "name": "stdout",
     "output_type": "stream",
     "text": [
      "[ 0.  1.  2.  3.  4.  5.  6.  7.  8.  9. 10. 11. 12. 13. 14. 15. 16.]\n"
     ]
    },
    {
     "data": {
      "image/png": "[encoded data removed]",
      "text/plain": [
       "<Figure size 432x288 with 1 Axes>"
      ]
     },
     "metadata": {
      "needs_background": "light"
     },
     "output_type": "display_data"
    }
   ],
   "source": [
    "# histograma\n",
    "\n",
    "# Crear Histograma\n",
    "# primero creamos los bins, para poder especificarlos\n",
    "bin_edges = np.arange(0, df['residual sugar'].max() + 1, 1) \n",
    "# esto crea un arreglo desde el 0 (argumento 1),\n",
    "# hasta el máximo de azúcar residual más uno (argumento 2, el máximo es 15 luego el último bin tiene el borde en 16),\n",
    "# de ancho 1 (argumento 3) \n",
    "print(bin_edges)\n",
    "\n",
    "fig = plt.hist(df['residual sugar'], bins=bin_edges)\n",
    "\n",
    "# Añadir labels\n",
    "plt.xlabel('count')\n",
    "plt.ylabel('residual sugar')\n",
    "plt.show()"
   ]
  },
  {
   "cell_type": "code",
   "execution_count": 8,
   "metadata": {},
   "outputs": [
    {
     "data": {
      "image/png": "[encoded data removed]",
      "text/plain": [
       "<Figure size 432x288 with 1 Axes>"
      ]
     },
     "metadata": {
      "needs_background": "light"
     },
     "output_type": "display_data"
    }
   ],
   "source": [
    "# boxplot\n",
    "#usando matplotlib.pyplot.boxplot:\n",
    "\n",
    "plt.boxplot(df['alcohol']) #boxplot de la variable alcohol\n",
    "\n",
    "plt.ylim([8, 16]) # esto fija los límites de los ejes\n",
    "plt.ylabel('alcohol') # label para el eje y\n",
    "\n",
    "fig = plt.gca()\n",
    "fig.axes.get_xaxis().set_ticks([]) # esto es para borrar los ticks en el eje x\n",
    "plt.show()"
   ]
  },
  {
   "cell_type": "code",
   "execution_count": 9,
   "metadata": {},
   "outputs": [
    {
     "data": {
      "image/png": "[encoded data removed]",
      "text/plain": [
       "<Figure size 432x288 with 1 Axes>"
      ]
     },
     "metadata": {
      "needs_background": "light"
     },
     "output_type": "display_data"
    }
   ],
   "source": [
    "plt.violinplot(df['alcohol'], [0], \n",
    "               points=100, \n",
    "               bw_method='scott',\n",
    "               showmeans=False, \n",
    "               showextrema=True, \n",
    "               showmedians=True)\n",
    "\n",
    "plt.ylim([8, 16])\n",
    "plt.ylabel('alcohol')\n",
    "fig = plt.gca()\n",
    "fig.axes.get_xaxis().set_ticks([])\n",
    "plt.show()"
   ]
  },
  {
   "cell_type": "markdown",
   "metadata": {},
   "source": [
    "ACTIVIDAD DE APLICACIÖN PARTE 1:\n",
    "\n",
    "Utilizaremos el conjunto de datos \"Penguins\". Este es un conjunto de datos popular que se incluye en la librería Seaborn. Este conjunto de datos contiene información que fue recopilada sobre diferentes especies de pingüinos, incluyendo detalles como las medidas morfológicas de los pingüinos y la especie a la que pertenecen.\n",
    "\n",
    "El conjunto de datos \"Penguins\" fue recopilado por el ecologista marino Dr. Bill Link y su equipo de investigadores. Fue utilizado originalmente en un estudio de investigación para analizar patrones de anidación y supervivencia de pingüinos en la isla de Torgersen, cerca de la base Palmer de Estados Unidos en la Antártida. Los datos se obtuvieron a través de observaciones en el campo y mediciones de las características físicas de los pingüinos.\n",
    "\n",
    "Disponible en: https://github.com/allisonhorst/palmerpenguins\n",
    "\n",
    "El conjunto de datos consta de las siguientes columnas:\n",
    "\n",
    "- species: La especie de pingüino, que puede ser \"Adelie\", \"Chinstrap\" o \"Gentoo\".\n",
    "- island: La isla en la que se encontraron los pingüinos (\"Biscoe\", \"Dream\" o \"Torgersen\").\n",
    "- bill_length_mm: La longitud del pico del pingüino en milímetros.\n",
    "- bill_depth_mm: La profundidad del pico del pingüino en milímetros.\n",
    "- flipper_length_mm: La longitud de la aleta del pingüino en milímetros.\n",
    "- body_mass_g: La masa corporal del pingüino en gramos.\n",
    "- sex: El género del pingüino.\n",
    "\n",
    "Estos datos permiten explorar relaciones entre las medidas morfológicas de los pingüinos y su especie, así como su género y la isla en la que se encuentran. El conjunto de datos es utilizado comúnmente para ejemplificar técnicas de visualización y análisis de datos en Seaborn y otras librerías.\n",
    "\n",
    "El objetivo de analizar estos datos es entender cómo las diferentes medidas morfológicas pueden variar entre especies y cómo estas características pueden estar relacionadas con otros aspectos de los pingüinos, como su género y su hábitat.\n",
    "\n",
    "\n",
    "1. Considere las caracteristicas bill_length_mm, bill_depth_mm, flipper_length_mm y body_mass_g.\n",
    "   1. Describa su tendencia central.\n",
    "   2. Describa su variabilidad\n",
    "   3.  Realice graficos para describir la distribucion de cada caracteristicas.\n",
    "2. Elija una de las caracteristicas y realicemos comparaciones entre los diferentes tipos de pinguinos.\n"
   ]
  },
  {
   "cell_type": "markdown",
   "metadata": {},
   "source": [
    "# Análisis multivariado\n",
    "\n",
    "Dos variables numéricas\n",
    "\n",
    "## Grafico de dispersión \n",
    "\n",
    "\n",
    "## Media condicionada\n",
    "\n",
    "\n",
    "\n",
    "Una variable numérica y categórica\n",
    "\n",
    "\n",
    "Dos variables categóricas\n"
   ]
  },
  {
   "cell_type": "code",
   "execution_count": 10,
   "metadata": {},
   "outputs": [
    {
     "data": {
      "image/png": "[encoded data removed]",
      "text/plain": [
       "<Figure size 432x288 with 1 Axes>"
      ]
     },
     "metadata": {
      "needs_background": "light"
     },
     "output_type": "display_data"
    }
   ],
   "source": [
    "# Crear scatterplot\n",
    "fig = plt.scatter(df['pH'], df['residual sugar'])\n",
    "\n",
    "# Añadir labels\n",
    "plt.xlabel('pH')\n",
    "plt.ylabel('residual sugar')\n",
    "# Para mostrar el scatterplot\n",
    "plt.show()"
   ]
  },
  {
   "cell_type": "markdown",
   "metadata": {},
   "source": [
    "Ejemplo palmen penguins"
   ]
  },
  {
   "cell_type": "markdown",
   "metadata": {},
   "source": [
    "El paquete de R \"palmerpenguins\" proporciona un conjunto de datos moderno y accesible que contiene medidas de tamaño corporal para tres especies de pingüinos que anidan en islas a lo largo del Archipiélago Palmer, en la Península Antártica Occidental. \n",
    "\n",
    "Desde su lanzamiento en la Red Integral de Archivos de R (CRAN) en julio de 2020, el paquete ha sido descargado más de 340,000 veces. Rápidamente se adaptó para su uso en otros lenguajes, incluido el paquete \"seaborn\" de Python y los conjuntos de datos de \"TensorFlow\" de Google. Se ha convertido en una opción fundamental para educadores en ciencias de datos y estadísticas en todo el mundo."
   ]
  },
  {
   "cell_type": "code",
   "execution_count": 13,
   "metadata": {},
   "outputs": [],
   "source": [
    "#pip install palmerpenguins\n",
    "from palmerpenguins import load_penguins\n"
   ]
  },
  {
   "cell_type": "code",
   "execution_count": 14,
   "metadata": {},
   "outputs": [],
   "source": [
    "import seaborn as sns\n",
    "data = sns.load_dataset('penguins')"
   ]
  },
  {
   "cell_type": "code",
   "execution_count": 18,
   "metadata": {},
   "outputs": [
    {
     "data": {
      "text/plain": [
       "['anagrams',\n",
       " 'anscombe',\n",
       " 'attention',\n",
       " 'brain_networks',\n",
       " 'car_crashes',\n",
       " 'diamonds',\n",
       " 'dots',\n",
       " 'dowjones',\n",
       " 'exercise',\n",
       " 'flights',\n",
       " 'fmri',\n",
       " 'geyser',\n",
       " 'glue',\n",
       " 'healthexp',\n",
       " 'iris',\n",
       " 'mpg',\n",
       " 'penguins',\n",
       " 'planets',\n",
       " 'seaice',\n",
       " 'taxis',\n",
       " 'tips',\n",
       " 'titanic']"
      ]
     },
     "execution_count": 18,
     "metadata": {},
     "output_type": "execute_result"
    }
   ],
   "source": [
    "sns.get_dataset_names() "
   ]
  },
  {
   "cell_type": "code",
   "execution_count": 15,
   "metadata": {},
   "outputs": [
    {
     "data": {
      "text/html": [
       "<div>\n",
       "<style scoped>\n",
       "    .dataframe tbody tr th:only-of-type {\n",
       "        vertical-align: middle;\n",
       "    }\n",
       "\n",
       "    .dataframe tbody tr th {\n",
       "        vertical-align: top;\n",
       "    }\n",
       "\n",
       "    .dataframe thead th {\n",
       "        text-align: right;\n",
       "    }\n",
       "</style>\n",
       "<table border=\"1\" class=\"dataframe\">\n",
       "  <thead>\n",
       "    <tr style=\"text-align: right;\">\n",
       "      <th></th>\n",
       "      <th>species</th>\n",
       "      <th>island</th>\n",
       "      <th>bill_length_mm</th>\n",
       "      <th>bill_depth_mm</th>\n",
       "      <th>flipper_length_mm</th>\n",
       "      <th>body_mass_g</th>\n",
       "      <th>sex</th>\n",
       "    </tr>\n",
       "  </thead>\n",
       "  <tbody>\n",
       "    <tr>\n",
       "      <th>0</th>\n",
       "      <td>Adelie</td>\n",
       "      <td>Torgersen</td>\n",
       "      <td>39.1</td>\n",
       "      <td>18.7</td>\n",
       "      <td>181.0</td>\n",
       "      <td>3750.0</td>\n",
       "      <td>Male</td>\n",
       "    </tr>\n",
       "    <tr>\n",
       "      <th>1</th>\n",
       "      <td>Adelie</td>\n",
       "      <td>Torgersen</td>\n",
       "      <td>39.5</td>\n",
       "      <td>17.4</td>\n",
       "      <td>186.0</td>\n",
       "      <td>3800.0</td>\n",
       "      <td>Female</td>\n",
       "    </tr>\n",
       "    <tr>\n",
       "      <th>2</th>\n",
       "      <td>Adelie</td>\n",
       "      <td>Torgersen</td>\n",
       "      <td>40.3</td>\n",
       "      <td>18.0</td>\n",
       "      <td>195.0</td>\n",
       "      <td>3250.0</td>\n",
       "      <td>Female</td>\n",
       "    </tr>\n",
       "    <tr>\n",
       "      <th>3</th>\n",
       "      <td>Adelie</td>\n",
       "      <td>Torgersen</td>\n",
       "      <td>NaN</td>\n",
       "      <td>NaN</td>\n",
       "      <td>NaN</td>\n",
       "      <td>NaN</td>\n",
       "      <td>NaN</td>\n",
       "    </tr>\n",
       "    <tr>\n",
       "      <th>4</th>\n",
       "      <td>Adelie</td>\n",
       "      <td>Torgersen</td>\n",
       "      <td>36.7</td>\n",
       "      <td>19.3</td>\n",
       "      <td>193.0</td>\n",
       "      <td>3450.0</td>\n",
       "      <td>Female</td>\n",
       "    </tr>\n",
       "  </tbody>\n",
       "</table>\n",
       "</div>"
      ],
      "text/plain": [
       "  species     island  bill_length_mm  bill_depth_mm  flipper_length_mm  \\\n",
       "0  Adelie  Torgersen            39.1           18.7              181.0   \n",
       "1  Adelie  Torgersen            39.5           17.4              186.0   \n",
       "2  Adelie  Torgersen            40.3           18.0              195.0   \n",
       "3  Adelie  Torgersen             NaN            NaN                NaN   \n",
       "4  Adelie  Torgersen            36.7           19.3              193.0   \n",
       "\n",
       "   body_mass_g     sex  \n",
       "0       3750.0    Male  \n",
       "1       3800.0  Female  \n",
       "2       3250.0  Female  \n",
       "3          NaN     NaN  \n",
       "4       3450.0  Female  "
      ]
     },
     "execution_count": 15,
     "metadata": {},
     "output_type": "execute_result"
    }
   ],
   "source": [
    "data.head()"
   ]
  },
  {
   "cell_type": "code",
   "execution_count": 16,
   "metadata": {},
   "outputs": [
    {
     "data": {
      "text/plain": [
       "(344, 7)"
      ]
     },
     "execution_count": 16,
     "metadata": {},
     "output_type": "execute_result"
    }
   ],
   "source": [
    "data.shape"
   ]
  },
  {
   "cell_type": "code",
   "execution_count": 17,
   "metadata": {},
   "outputs": [
    {
     "data": {
      "text/html": [
       "<div>\n",
       "<style scoped>\n",
       "    .dataframe tbody tr th:only-of-type {\n",
       "        vertical-align: middle;\n",
       "    }\n",
       "\n",
       "    .dataframe tbody tr th {\n",
       "        vertical-align: top;\n",
       "    }\n",
       "\n",
       "    .dataframe thead th {\n",
       "        text-align: right;\n",
       "    }\n",
       "</style>\n",
       "<table border=\"1\" class=\"dataframe\">\n",
       "  <thead>\n",
       "    <tr style=\"text-align: right;\">\n",
       "      <th></th>\n",
       "      <th>species</th>\n",
       "      <th>island</th>\n",
       "      <th>bill_length_mm</th>\n",
       "      <th>bill_depth_mm</th>\n",
       "      <th>flipper_length_mm</th>\n",
       "      <th>body_mass_g</th>\n",
       "      <th>sex</th>\n",
       "    </tr>\n",
       "  </thead>\n",
       "  <tbody>\n",
       "    <tr>\n",
       "      <th>count</th>\n",
       "      <td>344</td>\n",
       "      <td>344</td>\n",
       "      <td>342.000000</td>\n",
       "      <td>342.000000</td>\n",
       "      <td>342.000000</td>\n",
       "      <td>342.000000</td>\n",
       "      <td>333</td>\n",
       "    </tr>\n",
       "    <tr>\n",
       "      <th>unique</th>\n",
       "      <td>3</td>\n",
       "      <td>3</td>\n",
       "      <td>NaN</td>\n",
       "      <td>NaN</td>\n",
       "      <td>NaN</td>\n",
       "      <td>NaN</td>\n",
       "      <td>2</td>\n",
       "    </tr>\n",
       "    <tr>\n",
       "      <th>top</th>\n",
       "      <td>Adelie</td>\n",
       "      <td>Biscoe</td>\n",
       "      <td>NaN</td>\n",
       "      <td>NaN</td>\n",
       "      <td>NaN</td>\n",
       "      <td>NaN</td>\n",
       "      <td>Male</td>\n",
       "    </tr>\n",
       "    <tr>\n",
       "      <th>freq</th>\n",
       "      <td>152</td>\n",
       "      <td>168</td>\n",
       "      <td>NaN</td>\n",
       "      <td>NaN</td>\n",
       "      <td>NaN</td>\n",
       "      <td>NaN</td>\n",
       "      <td>168</td>\n",
       "    </tr>\n",
       "    <tr>\n",
       "      <th>mean</th>\n",
       "      <td>NaN</td>\n",
       "      <td>NaN</td>\n",
       "      <td>43.921930</td>\n",
       "      <td>17.151170</td>\n",
       "      <td>200.915205</td>\n",
       "      <td>4201.754386</td>\n",
       "      <td>NaN</td>\n",
       "    </tr>\n",
       "    <tr>\n",
       "      <th>std</th>\n",
       "      <td>NaN</td>\n",
       "      <td>NaN</td>\n",
       "      <td>5.459584</td>\n",
       "      <td>1.974793</td>\n",
       "      <td>14.061714</td>\n",
       "      <td>801.954536</td>\n",
       "      <td>NaN</td>\n",
       "    </tr>\n",
       "    <tr>\n",
       "      <th>min</th>\n",
       "      <td>NaN</td>\n",
       "      <td>NaN</td>\n",
       "      <td>32.100000</td>\n",
       "      <td>13.100000</td>\n",
       "      <td>172.000000</td>\n",
       "      <td>2700.000000</td>\n",
       "      <td>NaN</td>\n",
       "    </tr>\n",
       "    <tr>\n",
       "      <th>25%</th>\n",
       "      <td>NaN</td>\n",
       "      <td>NaN</td>\n",
       "      <td>39.225000</td>\n",
       "      <td>15.600000</td>\n",
       "      <td>190.000000</td>\n",
       "      <td>3550.000000</td>\n",
       "      <td>NaN</td>\n",
       "    </tr>\n",
       "    <tr>\n",
       "      <th>50%</th>\n",
       "      <td>NaN</td>\n",
       "      <td>NaN</td>\n",
       "      <td>44.450000</td>\n",
       "      <td>17.300000</td>\n",
       "      <td>197.000000</td>\n",
       "      <td>4050.000000</td>\n",
       "      <td>NaN</td>\n",
       "    </tr>\n",
       "    <tr>\n",
       "      <th>75%</th>\n",
       "      <td>NaN</td>\n",
       "      <td>NaN</td>\n",
       "      <td>48.500000</td>\n",
       "      <td>18.700000</td>\n",
       "      <td>213.000000</td>\n",
       "      <td>4750.000000</td>\n",
       "      <td>NaN</td>\n",
       "    </tr>\n",
       "    <tr>\n",
       "      <th>max</th>\n",
       "      <td>NaN</td>\n",
       "      <td>NaN</td>\n",
       "      <td>59.600000</td>\n",
       "      <td>21.500000</td>\n",
       "      <td>231.000000</td>\n",
       "      <td>6300.000000</td>\n",
       "      <td>NaN</td>\n",
       "    </tr>\n",
       "  </tbody>\n",
       "</table>\n",
       "</div>"
      ],
      "text/plain": [
       "       species  island  bill_length_mm  bill_depth_mm  flipper_length_mm  \\\n",
       "count      344     344      342.000000     342.000000         342.000000   \n",
       "unique       3       3             NaN            NaN                NaN   \n",
       "top     Adelie  Biscoe             NaN            NaN                NaN   \n",
       "freq       152     168             NaN            NaN                NaN   \n",
       "mean       NaN     NaN       43.921930      17.151170         200.915205   \n",
       "std        NaN     NaN        5.459584       1.974793          14.061714   \n",
       "min        NaN     NaN       32.100000      13.100000         172.000000   \n",
       "25%        NaN     NaN       39.225000      15.600000         190.000000   \n",
       "50%        NaN     NaN       44.450000      17.300000         197.000000   \n",
       "75%        NaN     NaN       48.500000      18.700000         213.000000   \n",
       "max        NaN     NaN       59.600000      21.500000         231.000000   \n",
       "\n",
       "        body_mass_g   sex  \n",
       "count    342.000000   333  \n",
       "unique          NaN     2  \n",
       "top             NaN  Male  \n",
       "freq            NaN   168  \n",
       "mean    4201.754386   NaN  \n",
       "std      801.954536   NaN  \n",
       "min     2700.000000   NaN  \n",
       "25%     3550.000000   NaN  \n",
       "50%     4050.000000   NaN  \n",
       "75%     4750.000000   NaN  \n",
       "max     6300.000000   NaN  "
      ]
     },
     "execution_count": 17,
     "metadata": {},
     "output_type": "execute_result"
    }
   ],
   "source": [
    "data.describe(include = 'all')"
   ]
  },
  {
   "cell_type": "markdown",
   "metadata": {},
   "source": [
    "Actividad 1: Continuación:\n",
    "\n",
    "\n",
    "3. Elija dos de las caracetiristicas y haga un grafico de dispersion entre ellas y calcule la covarianza y coeficiente de correlación. Interprete. \n",
    "\n",
    "\n",
    "4. Repita para los diferentes tipos de pinguinos.¿Se mantienen los resultados anteriores? Compaere."
   ]
  }
 ],
 "metadata": {
  "kernelspec": {
   "display_name": "Python 3",
   "language": "python",
   "name": "python3"
  },
  "language_info": {
   "codemirror_mode": {
    "name": "ipython",
    "version": 3
   },
   "file_extension": ".py",
   "mimetype": "text/x-python",
   "name": "python",
   "nbconvert_exporter": "python",
   "pygments_lexer": "ipython3",
   "version": "3.9.1"
  },
  "orig_nbformat": 4
 },
 "nbformat": 4,
 "nbformat_minor": 2
}
