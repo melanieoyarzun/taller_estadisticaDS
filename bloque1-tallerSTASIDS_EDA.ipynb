{
 "cells": [
  {
   "cell_type": "markdown",
   "metadata": {},
   "source": [
    "# Taller Estadística para Data Science\n",
    "\n",
    "Docente: Melanie Oyarzún\n",
    "\n",
    "E-Mail: moyarzunw@udd.cl\n",
    "\n",
    "Fecha: 12 agosto 2023\n",
    "\n",
    "---"
   ]
  },
  {
   "cell_type": "markdown",
   "metadata": {},
   "source": [
    "## Generalidades\n",
    "\n",
    "\n",
    "### Descripción\n",
    "El taller se divide en dos bloques, cada uno tiene un notebook que lo acompaña.\n",
    "\n",
    "- El primer bloque revisaremos conceptos claves de la estadística y su aplicación concreta en análisis exploratorio de datos. [ Link Notebook bloque 1](https://github.com/melanieoyarzun/taller_estadisticaDS/blob/main/actividad_tallerSTATSIDS.ipynb)\n",
    "\n",
    "- En el segundo bloque revisaremos conceptos asociados a la inferencia estadística y su aplicación en pruebas de hipotesis y experimentos aleatorios.\n",
    "[ Link Notebook bloque 2](https://github.com/melanieoyarzun/taller_estadisticaDS/blob/main/bloque2-tallerSTATSIDS_inferencia.ipynb)\n",
    "\n",
    "### Evaluación\n",
    "\n",
    "Durante ambos bloques trabajaremos en una actividad de ejercitación que será evaluada, este puede ser de manera individual o en grupo de hasta 3 personas.  El enunciado estaá disponible en [link actividad](https://github.com/melanieoyarzun/taller_estadisticaDS/blob/main/actividad_tallerSTATSIDS.ipynb)\n",
    "\n",
    "- La entrega es hasta el día lunes 28 AGO en el correo: moyarzunw@udd.cl,\n",
    "- Enviar por correo con el asunto: Tarea taller serie de tiempo IDS, nombre apellido\n",
    "- El notebook debe tener el nombre: Notebook- taller-aplicacion-nombre-apellido.ipnyb,\n",
    "- Tambien puede enviarme un link en github si está publico o me concede acceso.\n",
    "\n",
    "---"
   ]
  },
  {
   "cell_type": "markdown",
   "metadata": {},
   "source": [
    "## Sección 1: Abstrayendo y modelando la realidad\n",
    "\n",
    "En esta primera parte, revisaremos en acción algunos de los principios que tienen quer con el proceso de abtracción de la realidad mediante variables aletaorias y su descripción.\n",
    "\n",
    "Podemos ver algunos principios en acción a través de **simulaciones**"
   ]
  },
  {
   "cell_type": "markdown",
   "metadata": {},
   "source": [
    "# Estadística\n",
    "\n",
    "## Conceptos fundamentales\n",
    "\n",
    "* **Fenomeno:** Cualquier ocurrencia o hecho en la naturaleza que es observable y medible.\n",
    "* **Fenomeno Deterministico:** Su comportamiento (resultado) esta completamente determinado por las condiciones en las que el fenomeno ocurre.\n",
    "\n",
    " -  Ej: La distancia (D) recorrida por un movil que se desplaza a velocidad constante es $D=vt$, donde v representa la velocidad y t representa el tiempo de desplazamiento.\n",
    "\n",
    "\n",
    "* **Fenomeno Aleatorio** (no-deterministico estocastico, probabilistico): Su comportamiento no esta completamentamente determinado por las condiciones en las que el fenomeno ocurre.\n",
    "\n",
    "    -  Dadas ciertas condiciones iniciales (entradas) y ciertas acciones, el resultado es incierto, puede ser cualquier elemento de un set de posibles resultados.\n",
    "\n",
    "    - Ejemplos:  \n",
    "        -   Al lanzar una moneda al aire, parece ser el caso que no existen condiciones iniciales o informacion alguna que permita predecir si el resultado sera cara o sello.\n",
    "        - Cuando se lanza un dado, el resultado puede ser cualquiera de las 6 caras, pero no se sabe exactamente cual.\n",
    "        - ¿Es predecible el tiempo exacto que toma el viaje de la casa a la universidad?\n",
    "\n",
    "* **Experimento:** procedimiento que puede repetirse infinitas veces y que tiene un conjunto de resultados bien definidos (se le llama el *espacio muestral*)\n",
    "\n",
    "* **Trial o realización:** corresponde a una instancia del experimento\n",
    "\n",
    "* **Outcome:** Corresponde aun resultado posible observado en el experimento\n",
    "\n",
    "    - Ej: lanzar un dado puede resultar en $1$, $2$, $3$, $4$, $5$ o $6$ puntos por lo cual esl esoacuio muestral\n",
    "\n",
    "\n",
    "* **Variable aleatoria:** una regla (o funcion) que asigna un valor numerico a cada resultado posible del experimento.\n",
    "\n",
    "- Ej:  Se define variable aleatoria X = número de puntos en la cara del dado que resulta del lanzamiento \n",
    "    - $X = {1, 2, 3, 4, 5, 6} $\n",
    "\n",
    "Las variables aleatorias pueden ser de dos tipos:\n",
    "\n",
    "- Discretas: Toma número finito (o infinito pero contable) de valores.\n",
    "\n",
    "- Continuas: Toma cantidad de valores imposibles de contar."
   ]
  },
  {
   "cell_type": "markdown",
   "metadata": {},
   "source": [
    "\n",
    "## Probabilidad\n",
    "\n",
    "### Función de Distribución de probabilidad\n",
    "(Caso discreto)\n",
    "\n",
    "- Función de Distribución de probabilidad o fdp.\n",
    "- es una función que asigna una probabilidad a cada valor $x_{j}$ de la variable aleatoria X\n",
    "- Se denomina $f(x_{j})$\n",
    "\n",
    "$$f(x_{j}) = p_{j} = P(X = x_{j}) = P(x_{j})$$\n",
    "\n",
    "- $f(x_{j})$ se puede expresar como una fórmula, un gráfico, o una tabla.\n",
    "\n",
    "\n",
    "\n",
    "Por ejemplo, pensemos en **lanzar un dado**:\n",
    "\n",
    "![lanzar dados](https://www.dropbox.com/s/r10rcdgn7i0awr0/dice2.gif?raw=1)\n",
    "\n",
    "Podemos describir lo que podría ocurrir con las funciones de variable aletoria $x$ y de probabilidad $f(x)$:\n",
    "\n",
    "![Descripcion funcion va, prob e histograma lanzar 1 dado](https://www.dropbox.com/s/d1i5bmjkdqq0920/dados.png?raw=1)\n",
    "\n",
    "#### Propiedades de la probabilidad\n",
    "\n",
    "La función de probabilidad tiene ciertas propiedades particulares:\n",
    "\n",
    "- $0 \\leq P(x_{j}) \\leq 1$\n",
    "- $\\sum _{j} P(x_{j})=1$\n",
    "- $P(x_{-j})=1-P(x_{j})$\n",
    " \n",
    "\n",
    "Cuando los valores de X son eventos mutuamente excluyentes, entonces:\n",
    "$$ P(X=a \\quad \\text{o} \\quad X=b)=P(a)+P(b) $$\n",
    "\n",
    "\n",
    "### Función de Densidad Acumulada:\n",
    "\n",
    "\n",
    "Función de Densidad Acumulada o fda.\n",
    "- Denominada F(x).\n",
    "- Regla que especifica, para cada valor x, la probabilidad que $X \\leq x$:\n",
    "$$ F(X) =  \\sum_{j} P(X \\leq x_{j}) = P(1)+P(2)+\\dots+P(X) $$\n",
    "\n",
    "- Ej: lanzamiento de dado. ¿Cuál es la probabilidad que uno lance un dado y obtenga 3 puntos o menos?\n",
    "\n",
    "$$ F(3) =  P(X \\leq 3) = P(1)+P(2)+P(3)= \\frac{1}{6}+ \\frac{1}{6}+ \\frac{1}{6} = \\frac{1}{2} $$\n"
   ]
  },
  {
   "cell_type": "markdown",
   "metadata": {},
   "source": [
    "### Simulaciones usando el paquete `random`"
   ]
  },
  {
   "cell_type": "markdown",
   "metadata": {},
   "source": [
    "Para un experimento en un espacio muestral finito S, el paquete `random` nos provee varias funciones que pueden simular una o muchas realizaciones de un experimento.\n",
    "\n",
    "La primera función es `sample()`\n",
    "\n",
    "`random.sample(population, k)`\n",
    "\n",
    "La función `sample()` selecciona elementos de una \"bolsa\" de resultados, en la que cada elemento tiene la misma probabilidad asociada.\n",
    "\n",
    "\n",
    "Donde los argumentos principales son:\n",
    "\n",
    "- `population`: La colección de la cual se tomarán las muestras.\n",
    "- `k`: El número de muestras que se desean obtener."
   ]
  },
  {
   "cell_type": "code",
   "execution_count": 1,
   "metadata": {},
   "outputs": [
    {
     "name": "stdout",
     "output_type": "stream",
     "text": [
      "[1]\n"
     ]
    }
   ],
   "source": [
    "import random\n",
    "\n",
    "dado = random.sample(range(1, 6), 1)\n",
    "print(dado)"
   ]
  },
  {
   "cell_type": "code",
   "execution_count": 2,
   "metadata": {},
   "outputs": [
    {
     "name": "stdout",
     "output_type": "stream",
     "text": [
      "[5, 2, 1]\n"
     ]
    }
   ],
   "source": [
    "tres_dados = random.sample(range(1, 6), k=3)\n",
    "print(tres_dados)"
   ]
  },
  {
   "cell_type": "markdown",
   "metadata": {},
   "source": [
    "Observar que los 3 dados elegidos son diferentes, esto es porque no estamos operando con reemplazo. \n",
    "Si pedimos más de 10 números nos dará un error:"
   ]
  },
  {
   "cell_type": "code",
   "execution_count": 3,
   "metadata": {},
   "outputs": [
    {
     "ename": "ValueError",
     "evalue": "Sample larger than population or is negative",
     "output_type": "error",
     "traceback": [
      "\u001b[0;31m---------------------------------------------------------------------------\u001b[0m",
      "\u001b[0;31mValueError\u001b[0m                                Traceback (most recent call last)",
      "\u001b[1;32m/Users/melita/Library/CloudStorage/Dropbox/Asuntos UDD/2023- sem2/Taller - IDS - remedial estadisticas para data sciences/taller_estadisticaDS_REPO/bloque1-tallerSTASIDS_EDA.ipynb Celda 11\u001b[0m in \u001b[0;36m<cell line: 1>\u001b[0;34m()\u001b[0m\n\u001b[0;32m----> <a href='vscode-notebook-cell:/Users/melita/Library/CloudStorage/Dropbox/Asuntos%20UDD/2023-%20sem2/Taller%20-%20IDS%20-%20remedial%20estadisticas%20para%20data%20sciences/taller_estadisticaDS_REPO/bloque1-tallerSTASIDS_EDA.ipynb#X13sZmlsZQ%3D%3D?line=0'>1</a>\u001b[0m tres_dados \u001b[39m=\u001b[39m random\u001b[39m.\u001b[39;49msample(\u001b[39mrange\u001b[39;49m(\u001b[39m1\u001b[39;49m, \u001b[39m6\u001b[39;49m), k\u001b[39m=\u001b[39;49m\u001b[39m10\u001b[39;49m)\n\u001b[1;32m      <a href='vscode-notebook-cell:/Users/melita/Library/CloudStorage/Dropbox/Asuntos%20UDD/2023-%20sem2/Taller%20-%20IDS%20-%20remedial%20estadisticas%20para%20data%20sciences/taller_estadisticaDS_REPO/bloque1-tallerSTASIDS_EDA.ipynb#X13sZmlsZQ%3D%3D?line=1'>2</a>\u001b[0m \u001b[39mprint\u001b[39m(tres_dados)\n",
      "File \u001b[0;32m~/.pyenv/versions/3.9.1/lib/python3.9/random.py:449\u001b[0m, in \u001b[0;36mRandom.sample\u001b[0;34m(self, population, k, counts)\u001b[0m\n\u001b[1;32m    447\u001b[0m randbelow \u001b[39m=\u001b[39m \u001b[39mself\u001b[39m\u001b[39m.\u001b[39m_randbelow\n\u001b[1;32m    448\u001b[0m \u001b[39mif\u001b[39;00m \u001b[39mnot\u001b[39;00m \u001b[39m0\u001b[39m \u001b[39m<\u001b[39m\u001b[39m=\u001b[39m k \u001b[39m<\u001b[39m\u001b[39m=\u001b[39m n:\n\u001b[0;32m--> 449\u001b[0m     \u001b[39mraise\u001b[39;00m \u001b[39mValueError\u001b[39;00m(\u001b[39m\"\u001b[39m\u001b[39mSample larger than population or is negative\u001b[39m\u001b[39m\"\u001b[39m)\n\u001b[1;32m    450\u001b[0m result \u001b[39m=\u001b[39m [\u001b[39mNone\u001b[39;00m] \u001b[39m*\u001b[39m k\n\u001b[1;32m    451\u001b[0m setsize \u001b[39m=\u001b[39m \u001b[39m21\u001b[39m        \u001b[39m# size of a small set minus size of an empty list\u001b[39;00m\n",
      "\u001b[0;31mValueError\u001b[0m: Sample larger than population or is negative"
     ]
    }
   ],
   "source": [
    "tres_dados = random.sample(range(1, 6), k=10)\n",
    "print(tres_dados)"
   ]
  },
  {
   "cell_type": "markdown",
   "metadata": {},
   "source": [
    "La solución es usar la función choices(), en lugar de sample(), que tiene más opcipnes:\n",
    "\n",
    "La función random.choices() permite especificar pesos personalizados para los elementos utilizando el parámetro weights. Si no se proporcionan pesos, se asumirá una probabilidad uniforme entre los elementos.\n",
    "\n",
    "Por otro lado, la función random.sample() no permite asignar pesos directamente. Genera muestras únicas sin reemplazo a partir de la población dada.\n",
    "\n",
    "\n",
    "\n",
    "\n",
    "La sintaxis de `choices()` en Python es:\n",
    "\n",
    "`random.choices(population, weights=None, k=1)`\n",
    "\n",
    "Donde los argumentos son:\n",
    "\n",
    "`population`: Es la colección de la cual se tomarán las muestras.\n",
    "`weights`: Una lista de pesos o probabilidades asociadas a los elementos de la población. Debe ser una lista de valores no negativos. Si no se proporciona, se asumirán pesos uniformes, lo que significa que cada elemento tiene la misma probabilidad de ser seleccionado.\n",
    "`k`: El número de muestras que deseamos obtener.\n",
    "\n",
    "Simulemos el lanzamiento de un dado: "
   ]
  },
  {
   "cell_type": "code",
   "execution_count": 4,
   "metadata": {},
   "outputs": [
    {
     "name": "stdout",
     "output_type": "stream",
     "text": [
      "[6, 6, 4, 5, 5, 3, 4, 4, 6, 3]\n"
     ]
    }
   ],
   "source": [
    "diez_dados = random.choices(range(1, 7), k=10)\n",
    "print(diez_dados)"
   ]
  },
  {
   "cell_type": "markdown",
   "metadata": {},
   "source": [
    "La esperanza de un dado de seis caras es "
   ]
  },
  {
   "cell_type": "markdown",
   "metadata": {},
   "source": [
    "Probemos un evento más complejo:\n",
    "Suponga que va a tirar 3 dados. Estime la probabilidad de que el número más grande en la tirada sea un 4."
   ]
  },
  {
   "cell_type": "code",
   "execution_count": 5,
   "metadata": {},
   "outputs": [
    {
     "data": {
      "text/plain": [
       "[4, 1, 1]"
      ]
     },
     "execution_count": 5,
     "metadata": {},
     "output_type": "execute_result"
    }
   ],
   "source": [
    "tres_dados = random.choices(range(1, 7), k=3)  # Lanzar 3 dados\n",
    "tres_dados"
   ]
  },
  {
   "cell_type": "code",
   "execution_count": 6,
   "metadata": {},
   "outputs": [
    {
     "data": {
      "text/plain": [
       "True"
      ]
     },
     "execution_count": 6,
     "metadata": {},
     "output_type": "execute_result"
    }
   ],
   "source": [
    "max(tres_dados)==4"
   ]
  },
  {
   "cell_type": "markdown",
   "metadata": {},
   "source": [
    "Pero este es el ejemplo de solo una repetición, con esto no sabemos que pasaría si repitieramos muchas veces el experimento.\n",
    "\n",
    "En este código Python, hemos replicado el proceso 10000 veces. En cada repetición, lanzamos 3 dados y comprobamos si el valor máximo es igual a 4. \n",
    "\n",
    "Luego, almacenamos el resultado de esta comprobación en la lista eventos. Finalmente, calculamos la probabilidad dividiendo el número de veces que el evento ocurrió entre el número total de repeticiones, y lo imprimimos en la consola."
   ]
  },
  {
   "cell_type": "code",
   "execution_count": 7,
   "metadata": {},
   "outputs": [
    {
     "name": "stdout",
     "output_type": "stream",
     "text": [
      "0.1706\n"
     ]
    }
   ],
   "source": [
    "num_repeticiones = 10000\n",
    "eventos = []\n",
    "\n",
    "for _ in range(num_repeticiones):\n",
    "    dados = random.choices(range(1, 7), k=3)  # Lanzar 3 dados\n",
    "    eventos.append(max(dados) == 4)  # Probar si el evento ocurrió\n",
    "\n",
    "probabilidad_evento = sum(eventos) / num_repeticiones\n",
    "print(probabilidad_evento)"
   ]
  },
  {
   "cell_type": "markdown",
   "metadata": {},
   "source": [
    "## Caracterizando una variable aleatoria\n",
    "\n",
    "Ya revisamos el concepto de variable aleatoria y las funciones de probablidad, la segunda pregunta sería como caracterizar a una para entender mejor su comportamiento o naturaleza y poder describrila de mejor manera. \n",
    "\n",
    "Para estpo usamos ciertas medias, que nos hablan de valores clave o que tienden a repetirse y de que tanta variablidad tiene.\n",
    "\n",
    "- Tendencia central: son aquellos valores clave que tienden a ocurrir con amyor frecuencia o a donce convege una variable al repetirse repetidamente un experimento. Dentro de estos, el que más usaremos es el *valor esperado* o media.\n",
    "\n",
    "- Dispersión: nos describe la variablidad en los resultados de un fenómeno al realizarse repetidamente un experimento. \n",
    "\n",
    "### Tendencia Central\n",
    "\n",
    "El **valor esperado** de una variable aleatoria X, denominado como E(X), es el valor que X toma *en promedio* luego de varias repeticiones del experimento.\n",
    "\n",
    "- **Caso discreto:**\n",
    "\n",
    "$$ E(X)=x_{1}f(x_{1})+x_{2}f(x_{2})+\\dots+x_{k}f(x_{k})= \\sum_{j=1}^{k} x_{j}f(x_{j}) $$\n",
    "\n",
    "- **Caso contínuo:**\n",
    "$$ E(X)= \\int_{-\\infty}^{+\\infty} x_{j}f(x_{j})dx $$\n",
    "\n",
    "## Ejemplo de aplicación:\n",
    "\n",
    "Si tiramos un dado, ¿cuál es el valor esperado del resultado?\n",
    "Teoricamente:\n",
    "\n",
    "$$ \\begin{array}{rl}\n",
    "E(D) & = 1* P(D=1) + 2*P(D=2) + 3 * P(D=3) + 4 * P(D=4) + 5 * P(D=5) + 6 * P(D=6) \\\\\n",
    "& = 1* \\frac{1}{6} + 2*\\frac{1}{6} + 3 * \\frac{1}{6} + 4 * \\frac{1}{6} + 5 * \\frac{1}{6} + 6 * \\frac{1}{6}\\\\ \n",
    "& = \\frac{21}{6} = 3.5  \n",
    "\\end{array}\n",
    "$$\n",
    "\n",
    "Y si lo simulamos:"
   ]
  },
  {
   "cell_type": "code",
   "execution_count": 22,
   "metadata": {},
   "outputs": [
    {
     "name": "stdout",
     "output_type": "stream",
     "text": [
      "[4 1 4 ... 5 2 1]\n"
     ]
    }
   ],
   "source": [
    "# Generar 1,000,000 de lanzamientos de un dado de 6 caras\n",
    "dados = np.random.choice(np.arange(1, 7), size=1000000, replace=True)\n",
    "\n",
    "print(dados)\n"
   ]
  },
  {
   "cell_type": "code",
   "execution_count": 23,
   "metadata": {},
   "outputs": [
    {
     "name": "stdout",
     "output_type": "stream",
     "text": [
      "3.499723\n"
     ]
    }
   ],
   "source": [
    "import numpy as np\n",
    "\n",
    "# Calcular la media de los lanzamientos\n",
    "mean_dados = np.mean(dados)\n",
    "\n",
    "print(mean_dados)"
   ]
  },
  {
   "cell_type": "markdown",
   "metadata": {},
   "source": [
    "## Dispersión:\n",
    "\n",
    "Nos describe la variablidad en los resultados de un fenómeno al realizarse repetidamente un experimento. Las dos medidas principales son la **varianza** y la **desviación estándar**.\n",
    "\n",
    "La **varianza** resume la distancia cuadratica promedio entre valores de la v.a. X y su valor esperado.\n",
    "\n",
    "Para variable aleatoria X, sea $E(X)=\\mu$.\n",
    "Entonces la varianza:\n",
    "\n",
    "$$var(X)=\\sigma^{2}_{x}= E \\left[ (X-\\mu)^{2} \\right] $$\n",
    "\n",
    "Alternativamente:\n",
    "\n",
    "$$ \n",
    "\\begin{array}{rl}\n",
    "\\sigma^{2}_{x}=& E [ (X-\\mu)^{2} ] \\\\\n",
    "=& E [ (X^{2}-2X\\mu+\\mu^{2} ) ] \\\\\n",
    "=& E (X)^{2}-2\\mu E(X) + \\mu^{2} \\\\\n",
    "=& E (X^{2})-\\mu^{2}\n",
    "\\end{array}\n",
    "$$\n",
    "\n",
    "Esta medida en la unidad de la va al cuadrado.\n",
    "\n",
    "\n",
    "### Desviación estándar:\n",
    "\n",
    "\n",
    "- Se define como la raiz cuadrada de la varianza de la variable, esto es para que quede en la misma unidad de mdia que la va.\n",
    "- Nos dice cuánto tienden a alejarse los valores concretos del promedio en una distribución. \n",
    "$$ sd(X)= \\sigma_{x}=\\sqrt(Var(X)) $$\n",
    "\n",
    "- Para **estandarizar una variable aleatoria**: restar media y dividir por desv. Estandar.\n",
    "\n",
    "- Sea X una variable aleatoria X con $E(X) = \\mu $ y $sd(x) = \\sigma$ . Defnimos una nueva variable aleatoria Z:\n",
    "\n",
    "\n",
    "$$ Z= \\frac{X-\\mu} {\\sigma} $$\n",
    "\n",
    "Donde $E(Z)=0$ y $sd(Z)=1$.\n",
    "\n",
    "### Ejemplo de aplicación:\n",
    "\n",
    "Si tiramos un dado, ¿cuál es la varianza y sd del resultado?\n",
    "Teoricamente:\n",
    "$$var(D)=\\sigma^{2}_{x}= E \\left[ (D-E(D))^{2} \\right] $$\n",
    "\n",
    "Sabemos que: E(D)= 3.5\n",
    "\n",
    "$$V(D) =  ( 1- 3.5)^2 * 1/6 + ( 2- 3.5)^2 * 1/6 + ( 3- 3.5)^2 * 1/6 + ( 4- 3.5)^2 * 1/6 + ( 5- 3.5)^2 * 1/6 + ( 6- 3.5)^2 * 1/6 \\approx 2.92$$"
   ]
  },
  {
   "cell_type": "code",
   "execution_count": 25,
   "metadata": {},
   "outputs": [
    {
     "data": {
      "text/plain": [
       "2.916666666666667"
      ]
     },
     "execution_count": 25,
     "metadata": {},
     "output_type": "execute_result"
    }
   ],
   "source": [
    "(1 - 3.5)**2 * 1/6 + (2 - 3.5)**2 * 1/6 + (3 - 3.5)**2 * 1/6 + (4 - 3.5)**2 * 1/6 + (5 - 3.5)**2 * 1/6 + (6 - 3.5)**2 * 1/6\n"
   ]
  },
  {
   "cell_type": "code",
   "execution_count": 31,
   "metadata": {},
   "outputs": [
    {
     "data": {
      "text/plain": [
       "2.919401923271"
      ]
     },
     "execution_count": 31,
     "metadata": {},
     "output_type": "execute_result"
    }
   ],
   "source": [
    "\n",
    "# Calcular la varianza de los lanzamientos\n",
    "np.var(dados)\n"
   ]
  },
  {
   "cell_type": "code",
   "execution_count": 32,
   "metadata": {},
   "outputs": [
    {
     "data": {
      "text/plain": [
       "1.7072137695965317"
      ]
     },
     "execution_count": 32,
     "metadata": {},
     "output_type": "execute_result"
    }
   ],
   "source": [
    "np.std(rolls)"
   ]
  },
  {
   "cell_type": "markdown",
   "metadata": {},
   "source": [
    "### Población y muestra\n",
    "\n",
    "En general, no tenemos acceso a la población completa de una varible aleatoria. Sino que trabajamos con **muestras**.\n",
    "\n",
    "En base a estas, podemos aproximarnos a los parámetros pobalcionales mediante el proceso de **inferencia estadística**:\n",
    "\n",
    "Para esto podemos usar:\n",
    "- estimadores puntuales\n",
    "- intervalos de confianza\n",
    "- pruebas de hipotesis\n",
    "- p-valor\n",
    "\n",
    "\n",
    "## Estimadores Puntuales\n",
    "\n",
    "* Los estimadores on funciones muestrales.\n",
    "* Es una regla o función para obtener una aproximación a un parámetro poblacional.\n",
    "* Diferentes muestras entregarán diferentes valores, por lo cual es en si mismo una variable aleatoria.\n",
    "* Si el muestreo es aleatorio, son el resultado de una operación sobre variables aleatorias iid.\n",
    "* los más comunes son:\n",
    "  * estimadores de la esperanza: el promedio, la moda, la mediana muestral.\n",
    "  * estimador de la varianza: la varianza muestral.\n",
    "\n",
    "\n",
    "### Media muestral\n",
    "\n",
    "* Es un estimador de la esperanza ( o valor esperado) de una población.\n",
    "* Comunmente llamado promedio\n",
    "$$ \\bar{Y}= \\frac{1}{n}(y_1+ y_2+ …+ y_n) = \\frac{1}{n} \\sum_{i=1}{n}y_i  $$\n",
    "* recordemos que si el muestreo es aleatorio, cada $y_i$ es i.i.d. tal que $y_i \\sim(\\mu_y, \\sigma^2_y)$\n",
    "\n",
    "### Propiedades media muestral\n",
    "* Como cada observación $y_i$ de la muestra es aleatoria, $\\bar{y}$ es tambien una v.a. y podemos conocer su esperanza y varianza.\n",
    "\n",
    "Su esperanza:\n",
    "\n",
    "$$\n",
    "\\begin{array}{rl}\n",
    "E(\\bar{Y}) & = E[ \\frac{1}{n}(y_1+ y_2+ …+ y_n)  ] \\\\\n",
    "& = \\frac{1}{n} [ E(y_1)+ E(y_2)+ …+ E( y_n) ] \\\\\n",
    "&= \\frac{1}{n}[ \\mu_y + \\mu_y + \\dots + \\mu_y ] \\\\\n",
    "&= \\frac{1}{n} \\sum_{i=1}{n} \\mu_y\\\\\n",
    "&= \\frac{1}{n} \\times n \\mu_y\\\\\n",
    "& = \\mu_y \n",
    "\\end{array}\n",
    "$$\n",
    "\n",
    "Su varianza (dado que es iid):\n",
    "$$\n",
    "\\begin{array}{rl}\n",
    "V(\\bar{Y}) & = V[ \\frac{1}{n}(y_1+ y_2+ …+ y_n)  ] \\\\\n",
    "& = \\frac{1}{n^2} [ var(y_1) +var(y_2) + ...+ var(y_n) ] \\\\\n",
    "&= \\frac{1}{n^2}[ \\sigma_y + \\sigma_y + \\dots + \\sigma_y ] \\\\\n",
    "&= \\frac{1}{n^2} \\sum_{i=1}{n} \\sigma_y\\\\\n",
    "&= \\frac{1}{n^2} \\times n \\sigma_y\\\\\n",
    "& = \\displaystyle{\\frac{\\sigma_y}{n}  }\n",
    "\\end{array}\n",
    "$$\n",
    "\n",
    "\n",
    "# Varianza y desv. muestral\n",
    "\n",
    "* Es un estimador de la varianza poblacional\n",
    "* Se define como:\n",
    "$$ S^2_y = \\frac{1}{n-1} \\sum_{i=1}^{n}(y_i - \\bar{y})^2 $$\n",
    "\n",
    "* Se divide por n-1 para:\n",
    "  + que sea un estimador insesgado $E(S^2_y)= \\sigma_y^2$\n",
    "  + corregir grados de libertad\n",
    "\n",
    "* Definimos la **desviación estándar muestral** como $S_y$\n",
    "\n",
    "$$ S_y = \\sqrt{\\frac{1}{n-1} \\sum_{i=1}^{n}(y_i - \\bar{y})^2} $$"
   ]
  },
  {
   "cell_type": "markdown",
   "metadata": {},
   "source": [
    "### Ejemplo \n",
    "\n",
    "Consideremos que tenemos una muestra aleatoria de tamaño 5 de una variable normal con media 1 y varianza 4"
   ]
  },
  {
   "cell_type": "code",
   "execution_count": 34,
   "metadata": {},
   "outputs": [
    {
     "name": "stdout",
     "output_type": "stream",
     "text": [
      "[4.52810469 1.80031442 2.95747597 5.4817864  4.73511598]\n"
     ]
    }
   ],
   "source": [
    "import numpy as np\n",
    "\n",
    "np.random.seed(0)  # para que sea reproducible\n",
    "\n",
    "muestra = np.random.normal(loc=1, scale=2, size=5)\n",
    "print(muestra)"
   ]
  },
  {
   "cell_type": "code",
   "execution_count": 35,
   "metadata": {},
   "outputs": [
    {
     "name": "stdout",
     "output_type": "stream",
     "text": [
      "3.900559491116821\n"
     ]
    }
   ],
   "source": [
    "# sacamos su media\n",
    "\n",
    "media_muestra = np.mean(muestra)\n",
    "print(media_muestra)"
   ]
  },
  {
   "cell_type": "markdown",
   "metadata": {},
   "source": [
    "No estamos tan cerca. Supongamos que repetimos esto 10.000 veces y obtenemos la media otra vez"
   ]
  },
  {
   "cell_type": "code",
   "execution_count": 36,
   "metadata": {},
   "outputs": [
    {
     "name": "stdout",
     "output_type": "stream",
     "text": [
      "0.9924119815089804\n"
     ]
    }
   ],
   "source": [
    "np.random.seed(0)  # para que sea reproducible\n",
    "\n",
    "num_replicas = 10000\n",
    "medias_replicadas = []\n",
    "\n",
    "for _ in range(num_replicas):\n",
    "    muestra = np.random.normal(loc=1, scale=2, size=5)\n",
    "    media_muestra = np.mean(muestra)\n",
    "    medias_replicadas.append(media_muestra)\n",
    "\n",
    "media_medias_replicadas = np.mean(medias_replicadas)\n",
    "print(media_medias_replicadas)\n"
   ]
  },
  {
   "cell_type": "markdown",
   "metadata": {},
   "source": [
    "## Teorema del líme central en acción\n",
    "\n",
    "Esto ocurre porque empezamos a aplicar la ley de los grandes numeros + el TLC.\n",
    "\n",
    "En este código, generamos num_muestras muestras de lanzamientos de dado de tamaño tam_muestra cada una. Luego, calculamos la media de cada muestra y las almacenamos en la lista medias. Después, utilizamos matplotlib para crear un histograma que muestra la distribución de las medias de las muestras. La línea vertical roja marca la media de las medias de las muestras, lo que ilustra el Teorema del Límite Central: a medida que aumenta el tamaño de las muestras, la distribución de las medias tiende a aproximarse a una distribución normal."
   ]
  },
  {
   "cell_type": "code",
   "execution_count": 33,
   "metadata": {},
   "outputs": [
    {
     "data": {
      "image/png": "[encoded data removed]",
      "text/plain": [
       "<Figure size 720x432 with 1 Axes>"
      ]
     },
     "metadata": {
      "needs_background": "light"
     },
     "output_type": "display_data"
    }
   ],
   "source": [
    "import numpy as np\n",
    "import matplotlib.pyplot as plt\n",
    "\n",
    "# Parámetros\n",
    "num_muestras = 1000  # Cantidad de muestras\n",
    "tam_muestra = 100    # Tamaño de cada muestra\n",
    "\n",
    "# Generar muestras de lanzamientos de un dado y calcular sus medias\n",
    "medias = []\n",
    "for _ in range(num_muestras):\n",
    "    muestra = np.random.choice(np.arange(1, 7), size=tam_muestra, replace=True)\n",
    "    media_muestra = np.mean(muestra)\n",
    "    medias.append(media_muestra)\n",
    "\n",
    "# Graficar la distribución de las medias\n",
    "plt.figure(figsize=(10, 6))\n",
    "plt.hist(medias, bins=30, density=True, color='blue', alpha=0.7)\n",
    "plt.xlabel('Media de las muestras')\n",
    "plt.ylabel('Frecuencia relativa')\n",
    "plt.title('Distribución de las medias de muestras de lanzamientos de dado')\n",
    "plt.axvline(np.mean(medias), color='red', linestyle='dashed', linewidth=2, label='Media de medias')\n",
    "plt.legend()\n",
    "plt.show()\n"
   ]
  },
  {
   "cell_type": "markdown",
   "metadata": {},
   "source": [
    "### teorema del límite central (CLT)\n",
    "\n",
    "* Para muestras lo suficientemente grandes, la variable aleatoria $\\bar{y}$ se distribuye normal aun cuando no conozcamos la distribución de n.\n",
    "\n",
    "* es decir, es **asintóticamente normal**\n",
    "\n",
    "* cuando n es grande $\\bar{y} \\sim N(\\mu_y, \\frac{\\sigma^2}{n})$\n",
    "\n",
    "* podemos estandarizarla:\n",
    "\n",
    "$$ \\frac{\\bar{Y} - \\mu_y }{ \\frac{\\sigma}{\\sqrt{n}}} \\sim N(0,1) $$\n",
    "\n",
    "\n",
    "## Error estándar\n",
    "\n",
    "* Corresponde a un estimador de la desviación estándar del estimador.\n",
    "\n",
    "* Identifica que tan lejos estamos del verdadero valor poblacional.\n",
    "\n",
    "* Para la **media muestral**:\n",
    "\n",
    "$$ SE = \\frac{S_y}{\\sqrt{n}}$$\n",
    "\n",
    "Se utiliza para evaluar a los estimadores, mediante *pruebas de hipotesis* y construir *intervalos de confianza*\n",
    "\n",
    "\n",
    "* Si se conoce un estimador y su desviación estándar, podemos saber qué tan precisa es la estimación (mucha o poca varianza), pero no podemos saber si el estimador está cercano o no a su valor verdadero en la población (el cual no conocemos).\n",
    "\n",
    "* Nunca (o casi nunca) podemos conocer el valor verdadero de los parámetros en la población.\n",
    "* Sí se puede construir un conjunto de valores que contienen el parámetro poblacional con alguna probabilidad (llamada el nivel de confianza).\n",
    "* Un intervalo de confianza contiene los posibles valores del estimador, entre un límite inferior y un límite superior, con cierta probabilidad.\n"
   ]
  },
  {
   "cell_type": "markdown",
   "metadata": {},
   "source": [
    "# Sección 2: Análisis exploratorio de datos en una muestra\n",
    "\n",
    "En esta segunda sección vamos a realizar análisis exploratorio de datos, con datos muestrales. \n",
    "\n",
    "En general, usamos las mismas funciones que antes porque la mayoría de los paquetes estan pensados en que usamos muestras, no parámetros. \n",
    "\n",
    "Sin embargo, hay que tener en mente que:\n",
    " 1: no estamos describiendo a la población completa \n",
    " 2:nuestras estimaciones tienen error de muestreo. Veremos como lidear con esto en el siguiente bloque.\n",
    "\n",
    "# Actividad de Aplicación 1:\n",
    "\n",
    "Utilizaremos el conjunto de datos \"Penguins\". Este es un conjunto de datos popular que se incluye en la librería Seaborn. Este conjunto de datos contiene información que fue recopilada sobre diferentes especies de pingüinos, incluyendo detalles como las medidas morfológicas de los pingüinos y la especie a la que pertenecen.\n",
    "\n",
    "El conjunto de datos \"Penguins\" fue recopilado por el ecologista marino Dr. Bill Link y su equipo de investigadores. Fue utilizado originalmente en un estudio de investigación para analizar patrones de anidación y supervivencia de pingüinos en la isla de Torgersen, cerca de la base Palmer de Estados Unidos en la Antártida. Los datos se obtuvieron a través de observaciones en el campo y mediciones de las características físicas de los pingüinos.\n",
    "\n",
    "Disponible en: https://github.com/allisonhorst/palmerpenguins\n",
    "\n",
    "El conjunto de datos consta de las siguientes columnas:\n",
    "\n",
    "- species: La especie de pingüino, que puede ser \"Adelie\", \"Chinstrap\" o \"Gentoo\".\n",
    "- island: La isla en la que se encontraron los pingüinos (\"Biscoe\", \"Dream\" o \"Torgersen\").\n",
    "- bill_length_mm: La longitud del pico del pingüino en milímetros.\n",
    "- bill_depth_mm: La profundidad del pico del pingüino en milímetros.\n",
    "- flipper_length_mm: La longitud de la aleta del pingüino en milímetros.\n",
    "- body_mass_g: La masa corporal del pingüino en gramos.\n",
    "- sex: El género del pingüino.\n",
    "\n",
    "Estos datos permiten explorar relaciones entre las medidas morfológicas de los pingüinos y su especie, así como su género y la isla en la que se encuentran. El conjunto de datos es utilizado comúnmente para ejemplificar técnicas de visualización y análisis de datos en Seaborn y otras librerías.\n",
    "\n",
    "El objetivo de analizar estos datos es entender cómo las diferentes medidas morfológicas pueden variar entre especies y cómo estas características pueden estar relacionadas con otros aspectos de los pingüinos, como su género y su hábitat.\n",
    "\n",
    "En este caso, los datos vienen cargados en el paquete *Seaborn*, asi que solo los vamos a agregar a nuestro espacio de trabajo en un *dataframe*, que analizaremos con el paquete *pandas*, que es el framework por excelencia para analisis de dataframes en python.\n"
   ]
  },
  {
   "cell_type": "code",
   "execution_count": 51,
   "metadata": {},
   "outputs": [
    {
     "name": "stdout",
     "output_type": "stream",
     "text": [
      "(344, 7)\n",
      "Index(['species', 'island', 'bill_length_mm', 'bill_depth_mm',\n",
      "       'flipper_length_mm', 'body_mass_g', 'sex'],\n",
      "      dtype='object')\n"
     ]
    },
    {
     "data": {
      "text/html": [
       "<div>\n",
       "<style scoped>\n",
       "    .dataframe tbody tr th:only-of-type {\n",
       "        vertical-align: middle;\n",
       "    }\n",
       "\n",
       "    .dataframe tbody tr th {\n",
       "        vertical-align: top;\n",
       "    }\n",
       "\n",
       "    .dataframe thead th {\n",
       "        text-align: right;\n",
       "    }\n",
       "</style>\n",
       "<table border=\"1\" class=\"dataframe\">\n",
       "  <thead>\n",
       "    <tr style=\"text-align: right;\">\n",
       "      <th></th>\n",
       "      <th>species</th>\n",
       "      <th>island</th>\n",
       "      <th>bill_length_mm</th>\n",
       "      <th>bill_depth_mm</th>\n",
       "      <th>flipper_length_mm</th>\n",
       "      <th>body_mass_g</th>\n",
       "      <th>sex</th>\n",
       "    </tr>\n",
       "  </thead>\n",
       "  <tbody>\n",
       "    <tr>\n",
       "      <th>count</th>\n",
       "      <td>344</td>\n",
       "      <td>344</td>\n",
       "      <td>342.000000</td>\n",
       "      <td>342.000000</td>\n",
       "      <td>342.000000</td>\n",
       "      <td>342.000000</td>\n",
       "      <td>333</td>\n",
       "    </tr>\n",
       "    <tr>\n",
       "      <th>unique</th>\n",
       "      <td>3</td>\n",
       "      <td>3</td>\n",
       "      <td>NaN</td>\n",
       "      <td>NaN</td>\n",
       "      <td>NaN</td>\n",
       "      <td>NaN</td>\n",
       "      <td>2</td>\n",
       "    </tr>\n",
       "    <tr>\n",
       "      <th>top</th>\n",
       "      <td>Adelie</td>\n",
       "      <td>Biscoe</td>\n",
       "      <td>NaN</td>\n",
       "      <td>NaN</td>\n",
       "      <td>NaN</td>\n",
       "      <td>NaN</td>\n",
       "      <td>Male</td>\n",
       "    </tr>\n",
       "    <tr>\n",
       "      <th>freq</th>\n",
       "      <td>152</td>\n",
       "      <td>168</td>\n",
       "      <td>NaN</td>\n",
       "      <td>NaN</td>\n",
       "      <td>NaN</td>\n",
       "      <td>NaN</td>\n",
       "      <td>168</td>\n",
       "    </tr>\n",
       "    <tr>\n",
       "      <th>mean</th>\n",
       "      <td>NaN</td>\n",
       "      <td>NaN</td>\n",
       "      <td>43.921930</td>\n",
       "      <td>17.151170</td>\n",
       "      <td>200.915205</td>\n",
       "      <td>4201.754386</td>\n",
       "      <td>NaN</td>\n",
       "    </tr>\n",
       "    <tr>\n",
       "      <th>std</th>\n",
       "      <td>NaN</td>\n",
       "      <td>NaN</td>\n",
       "      <td>5.459584</td>\n",
       "      <td>1.974793</td>\n",
       "      <td>14.061714</td>\n",
       "      <td>801.954536</td>\n",
       "      <td>NaN</td>\n",
       "    </tr>\n",
       "    <tr>\n",
       "      <th>min</th>\n",
       "      <td>NaN</td>\n",
       "      <td>NaN</td>\n",
       "      <td>32.100000</td>\n",
       "      <td>13.100000</td>\n",
       "      <td>172.000000</td>\n",
       "      <td>2700.000000</td>\n",
       "      <td>NaN</td>\n",
       "    </tr>\n",
       "    <tr>\n",
       "      <th>25%</th>\n",
       "      <td>NaN</td>\n",
       "      <td>NaN</td>\n",
       "      <td>39.225000</td>\n",
       "      <td>15.600000</td>\n",
       "      <td>190.000000</td>\n",
       "      <td>3550.000000</td>\n",
       "      <td>NaN</td>\n",
       "    </tr>\n",
       "    <tr>\n",
       "      <th>50%</th>\n",
       "      <td>NaN</td>\n",
       "      <td>NaN</td>\n",
       "      <td>44.450000</td>\n",
       "      <td>17.300000</td>\n",
       "      <td>197.000000</td>\n",
       "      <td>4050.000000</td>\n",
       "      <td>NaN</td>\n",
       "    </tr>\n",
       "    <tr>\n",
       "      <th>75%</th>\n",
       "      <td>NaN</td>\n",
       "      <td>NaN</td>\n",
       "      <td>48.500000</td>\n",
       "      <td>18.700000</td>\n",
       "      <td>213.000000</td>\n",
       "      <td>4750.000000</td>\n",
       "      <td>NaN</td>\n",
       "    </tr>\n",
       "    <tr>\n",
       "      <th>max</th>\n",
       "      <td>NaN</td>\n",
       "      <td>NaN</td>\n",
       "      <td>59.600000</td>\n",
       "      <td>21.500000</td>\n",
       "      <td>231.000000</td>\n",
       "      <td>6300.000000</td>\n",
       "      <td>NaN</td>\n",
       "    </tr>\n",
       "  </tbody>\n",
       "</table>\n",
       "</div>"
      ],
      "text/plain": [
       "       species  island  bill_length_mm  bill_depth_mm  flipper_length_mm  \\\n",
       "count      344     344      342.000000     342.000000         342.000000   \n",
       "unique       3       3             NaN            NaN                NaN   \n",
       "top     Adelie  Biscoe             NaN            NaN                NaN   \n",
       "freq       152     168             NaN            NaN                NaN   \n",
       "mean       NaN     NaN       43.921930      17.151170         200.915205   \n",
       "std        NaN     NaN        5.459584       1.974793          14.061714   \n",
       "min        NaN     NaN       32.100000      13.100000         172.000000   \n",
       "25%        NaN     NaN       39.225000      15.600000         190.000000   \n",
       "50%        NaN     NaN       44.450000      17.300000         197.000000   \n",
       "75%        NaN     NaN       48.500000      18.700000         213.000000   \n",
       "max        NaN     NaN       59.600000      21.500000         231.000000   \n",
       "\n",
       "        body_mass_g   sex  \n",
       "count    342.000000   333  \n",
       "unique          NaN     2  \n",
       "top             NaN  Male  \n",
       "freq            NaN   168  \n",
       "mean    4201.754386   NaN  \n",
       "std      801.954536   NaN  \n",
       "min     2700.000000   NaN  \n",
       "25%     3550.000000   NaN  \n",
       "50%     4050.000000   NaN  \n",
       "75%     4750.000000   NaN  \n",
       "max     6300.000000   NaN  "
      ]
     },
     "execution_count": 51,
     "metadata": {},
     "output_type": "execute_result"
    }
   ],
   "source": [
    "import pandas as pd\n",
    "import numpy as np\n",
    "import seaborn as sns\n",
    "import matplotlib.pylab as plt\n",
    "\n",
    "\n",
    "# Cargar los datos penguins desde Seaborn\n",
    "penguins = sns.load_dataset(\"penguins\")\n",
    "\n",
    "print(penguins.shape)\n",
    "print(penguins.columns)\n"
   ]
  },
  {
   "cell_type": "markdown",
   "metadata": {},
   "source": [
    "## Análisis univariado\n",
    "\n",
    "Vamos a explorar y describir una única variable, en este caso el tamaño de la aleta de los pinguinos.\n"
   ]
  },
  {
   "cell_type": "markdown",
   "metadata": {},
   "source": [
    "## Tendencia central"
   ]
  },
  {
   "cell_type": "markdown",
   "metadata": {},
   "source": [
    "Media muestral:"
   ]
  },
  {
   "cell_type": "code",
   "execution_count": 39,
   "metadata": {},
   "outputs": [
    {
     "name": "stdout",
     "output_type": "stream",
     "text": [
      "200.91520467836258\n"
     ]
    }
   ],
   "source": [
    "print(penguins['flipper_length_mm'].mean())\n"
   ]
  },
  {
   "cell_type": "markdown",
   "metadata": {},
   "source": [
    "Mediana muestral"
   ]
  },
  {
   "cell_type": "code",
   "execution_count": 40,
   "metadata": {},
   "outputs": [
    {
     "name": "stdout",
     "output_type": "stream",
     "text": [
      "197.0\n"
     ]
    }
   ],
   "source": [
    "print(penguins['flipper_length_mm'].median())"
   ]
  },
  {
   "cell_type": "code",
   "execution_count": 41,
   "metadata": {},
   "outputs": [
    {
     "name": "stdout",
     "output_type": "stream",
     "text": [
      "0    190.0\n",
      "Name: flipper_length_mm, dtype: float64\n"
     ]
    }
   ],
   "source": [
    "print(penguins['flipper_length_mm'].mode())"
   ]
  },
  {
   "cell_type": "markdown",
   "metadata": {},
   "source": [
    "## Dispersión o Variabilidad "
   ]
  },
  {
   "cell_type": "markdown",
   "metadata": {},
   "source": [
    "Desviación estándar"
   ]
  },
  {
   "cell_type": "code",
   "execution_count": 13,
   "metadata": {},
   "outputs": [
    {
     "name": "stdout",
     "output_type": "stream",
     "text": [
      "6848235.347401142\n"
     ]
    }
   ],
   "source": [
    "print(penguins['flipper_length_mm'].std())"
   ]
  },
  {
   "cell_type": "markdown",
   "metadata": {},
   "source": [
    "Varianza"
   ]
  },
  {
   "cell_type": "code",
   "execution_count": 14,
   "metadata": {},
   "outputs": [
    {
     "name": "stdout",
     "output_type": "stream",
     "text": [
      "46898327373394.445\n"
     ]
    }
   ],
   "source": [
    "print(penguins['flipper_length_mm'].var())"
   ]
  },
  {
   "cell_type": "markdown",
   "metadata": {},
   "source": [
    "Rango interquatil"
   ]
  },
  {
   "cell_type": "code",
   "execution_count": 42,
   "metadata": {},
   "outputs": [
    {
     "name": "stdout",
     "output_type": "stream",
     "text": [
      "23.0\n"
     ]
    }
   ],
   "source": [
    "q1 = penguins.flipper_length_mm.quantile(0.25)\n",
    "q3 = penguins.flipper_length_mm.quantile(0.75)\n",
    "IQR= q3 - q1\n",
    "print(IQR)"
   ]
  },
  {
   "cell_type": "code",
   "execution_count": null,
   "metadata": {},
   "outputs": [],
   "source": [
    "# Calcular la media, desviación estándar y varianza de todas las columnas\n",
    "media_columnas = penguins.mean()\n",
    "desviacion_estandar_columnas = penguins.std()\n",
    "varianza_columnas = penguins.var()\n",
    "\n",
    "print(\"Media de las columnas:\")\n",
    "print(media_columnas)\n",
    "print(\"\\nDesviación estándar de las columnas:\")\n",
    "print(desviacion_estandar_columnas)\n",
    "print(\"\\nVarianza de las columnas:\")\n",
    "print(varianza_columnas)"
   ]
  },
  {
   "cell_type": "code",
   "execution_count": 52,
   "metadata": {},
   "outputs": [
    {
     "data": {
      "text/html": [
       "<div>\n",
       "<style scoped>\n",
       "    .dataframe tbody tr th:only-of-type {\n",
       "        vertical-align: middle;\n",
       "    }\n",
       "\n",
       "    .dataframe tbody tr th {\n",
       "        vertical-align: top;\n",
       "    }\n",
       "\n",
       "    .dataframe thead th {\n",
       "        text-align: right;\n",
       "    }\n",
       "</style>\n",
       "<table border=\"1\" class=\"dataframe\">\n",
       "  <thead>\n",
       "    <tr style=\"text-align: right;\">\n",
       "      <th></th>\n",
       "      <th>species</th>\n",
       "      <th>island</th>\n",
       "      <th>bill_length_mm</th>\n",
       "      <th>bill_depth_mm</th>\n",
       "      <th>flipper_length_mm</th>\n",
       "      <th>body_mass_g</th>\n",
       "      <th>sex</th>\n",
       "    </tr>\n",
       "  </thead>\n",
       "  <tbody>\n",
       "    <tr>\n",
       "      <th>count</th>\n",
       "      <td>344</td>\n",
       "      <td>344</td>\n",
       "      <td>342.000000</td>\n",
       "      <td>342.000000</td>\n",
       "      <td>342.000000</td>\n",
       "      <td>342.000000</td>\n",
       "      <td>333</td>\n",
       "    </tr>\n",
       "    <tr>\n",
       "      <th>unique</th>\n",
       "      <td>3</td>\n",
       "      <td>3</td>\n",
       "      <td>NaN</td>\n",
       "      <td>NaN</td>\n",
       "      <td>NaN</td>\n",
       "      <td>NaN</td>\n",
       "      <td>2</td>\n",
       "    </tr>\n",
       "    <tr>\n",
       "      <th>top</th>\n",
       "      <td>Adelie</td>\n",
       "      <td>Biscoe</td>\n",
       "      <td>NaN</td>\n",
       "      <td>NaN</td>\n",
       "      <td>NaN</td>\n",
       "      <td>NaN</td>\n",
       "      <td>Male</td>\n",
       "    </tr>\n",
       "    <tr>\n",
       "      <th>freq</th>\n",
       "      <td>152</td>\n",
       "      <td>168</td>\n",
       "      <td>NaN</td>\n",
       "      <td>NaN</td>\n",
       "      <td>NaN</td>\n",
       "      <td>NaN</td>\n",
       "      <td>168</td>\n",
       "    </tr>\n",
       "    <tr>\n",
       "      <th>mean</th>\n",
       "      <td>NaN</td>\n",
       "      <td>NaN</td>\n",
       "      <td>43.921930</td>\n",
       "      <td>17.151170</td>\n",
       "      <td>200.915205</td>\n",
       "      <td>4201.754386</td>\n",
       "      <td>NaN</td>\n",
       "    </tr>\n",
       "    <tr>\n",
       "      <th>std</th>\n",
       "      <td>NaN</td>\n",
       "      <td>NaN</td>\n",
       "      <td>5.459584</td>\n",
       "      <td>1.974793</td>\n",
       "      <td>14.061714</td>\n",
       "      <td>801.954536</td>\n",
       "      <td>NaN</td>\n",
       "    </tr>\n",
       "    <tr>\n",
       "      <th>min</th>\n",
       "      <td>NaN</td>\n",
       "      <td>NaN</td>\n",
       "      <td>32.100000</td>\n",
       "      <td>13.100000</td>\n",
       "      <td>172.000000</td>\n",
       "      <td>2700.000000</td>\n",
       "      <td>NaN</td>\n",
       "    </tr>\n",
       "    <tr>\n",
       "      <th>25%</th>\n",
       "      <td>NaN</td>\n",
       "      <td>NaN</td>\n",
       "      <td>39.225000</td>\n",
       "      <td>15.600000</td>\n",
       "      <td>190.000000</td>\n",
       "      <td>3550.000000</td>\n",
       "      <td>NaN</td>\n",
       "    </tr>\n",
       "    <tr>\n",
       "      <th>50%</th>\n",
       "      <td>NaN</td>\n",
       "      <td>NaN</td>\n",
       "      <td>44.450000</td>\n",
       "      <td>17.300000</td>\n",
       "      <td>197.000000</td>\n",
       "      <td>4050.000000</td>\n",
       "      <td>NaN</td>\n",
       "    </tr>\n",
       "    <tr>\n",
       "      <th>75%</th>\n",
       "      <td>NaN</td>\n",
       "      <td>NaN</td>\n",
       "      <td>48.500000</td>\n",
       "      <td>18.700000</td>\n",
       "      <td>213.000000</td>\n",
       "      <td>4750.000000</td>\n",
       "      <td>NaN</td>\n",
       "    </tr>\n",
       "    <tr>\n",
       "      <th>max</th>\n",
       "      <td>NaN</td>\n",
       "      <td>NaN</td>\n",
       "      <td>59.600000</td>\n",
       "      <td>21.500000</td>\n",
       "      <td>231.000000</td>\n",
       "      <td>6300.000000</td>\n",
       "      <td>NaN</td>\n",
       "    </tr>\n",
       "  </tbody>\n",
       "</table>\n",
       "</div>"
      ],
      "text/plain": [
       "       species  island  bill_length_mm  bill_depth_mm  flipper_length_mm  \\\n",
       "count      344     344      342.000000     342.000000         342.000000   \n",
       "unique       3       3             NaN            NaN                NaN   \n",
       "top     Adelie  Biscoe             NaN            NaN                NaN   \n",
       "freq       152     168             NaN            NaN                NaN   \n",
       "mean       NaN     NaN       43.921930      17.151170         200.915205   \n",
       "std        NaN     NaN        5.459584       1.974793          14.061714   \n",
       "min        NaN     NaN       32.100000      13.100000         172.000000   \n",
       "25%        NaN     NaN       39.225000      15.600000         190.000000   \n",
       "50%        NaN     NaN       44.450000      17.300000         197.000000   \n",
       "75%        NaN     NaN       48.500000      18.700000         213.000000   \n",
       "max        NaN     NaN       59.600000      21.500000         231.000000   \n",
       "\n",
       "        body_mass_g   sex  \n",
       "count    342.000000   333  \n",
       "unique          NaN     2  \n",
       "top             NaN  Male  \n",
       "freq            NaN   168  \n",
       "mean    4201.754386   NaN  \n",
       "std      801.954536   NaN  \n",
       "min     2700.000000   NaN  \n",
       "25%     3550.000000   NaN  \n",
       "50%     4050.000000   NaN  \n",
       "75%     4750.000000   NaN  \n",
       "max     6300.000000   NaN  "
      ]
     },
     "execution_count": 52,
     "metadata": {},
     "output_type": "execute_result"
    }
   ],
   "source": [
    "#Una funcion util es describe\n",
    "\n",
    "penguins.describe(include = 'all')\n"
   ]
  },
  {
   "cell_type": "markdown",
   "metadata": {},
   "source": [
    "# Distribución\n",
    "\n",
    "Para ver la diribución de una variable, podemos tomar aproximaciones graficas. Vamos a revisar las principales: Histogramas, boxplot, violin plots."
   ]
  },
  {
   "cell_type": "code",
   "execution_count": 44,
   "metadata": {},
   "outputs": [
    {
     "data": {
      "image/png": "[encoded data removed]",
      "text/plain": [
       "<Figure size 576x432 with 1 Axes>"
      ]
     },
     "metadata": {
      "needs_background": "light"
     },
     "output_type": "display_data"
    }
   ],
   "source": [
    "# histograma\n",
    "\n",
    "# Crear Histograma\n",
    "\n",
    "plt.figure(figsize=(8, 6))  # Opcional: ajusta el tamaño de la figura\n",
    "sns.histplot(data=penguins, x=\"flipper_length_mm\", bins=20, kde=True, color='blue')\n",
    "plt.title(\"Histograma del Largo de la Aleta\")\n",
    "plt.xlabel(\"Largo de la Aleta (mm)\")\n",
    "plt.ylabel(\"Frecuencia\")\n",
    "plt.show()\n"
   ]
  },
  {
   "cell_type": "markdown",
   "metadata": {},
   "source": [
    "Puedes ajustar los parámetros como el número de divisiones (bins), el tamaño de la figura (figsize) y otros detalles según los datos."
   ]
  },
  {
   "cell_type": "code",
   "execution_count": 46,
   "metadata": {},
   "outputs": [
    {
     "data": {
      "image/png": "[encoded data removed]",
      "text/plain": [
       "<Figure size 576x432 with 1 Axes>"
      ]
     },
     "metadata": {
      "needs_background": "light"
     },
     "output_type": "display_data"
    }
   ],
   "source": [
    "# boxplot\n",
    "\n",
    "plt.figure(figsize=(8, 6))  # Opcional: ajusta el tamaño de la figura\n",
    "sns.boxplot(data=penguins, y=\"flipper_length_mm\", color='blue')\n",
    "plt.title(\"Boxplot del Largo de la Aleta\")\n",
    "plt.ylabel(\"Largo de la Aleta (mm)\")\n",
    "plt.show()\n"
   ]
  },
  {
   "cell_type": "code",
   "execution_count": 47,
   "metadata": {},
   "outputs": [
    {
     "data": {
      "image/png": "[encoded data removed]",
      "text/plain": [
       "<Figure size 720x432 with 1 Axes>"
      ]
     },
     "metadata": {
      "needs_background": "light"
     },
     "output_type": "display_data"
    }
   ],
   "source": [
    "\n",
    "# Crear el boxplot separado por tipo de pingüino\n",
    "plt.figure(figsize=(10, 6))\n",
    "sns.boxplot(data=penguins, x=\"species\", y=\"flipper_length_mm\", palette=\"Set3\")\n",
    "plt.title(\"Boxplot del Largo de la Aleta por Tipo de Pingüino\")\n",
    "plt.xlabel(\"Tipo de Pingüino\")\n",
    "plt.ylabel(\"Largo de la Aleta (mm)\")\n",
    "plt.show()"
   ]
  },
  {
   "cell_type": "code",
   "execution_count": 48,
   "metadata": {},
   "outputs": [
    {
     "data": {
      "image/png": "[encoded data removed]",
      "text/plain": [
       "<Figure size 720x432 with 1 Axes>"
      ]
     },
     "metadata": {
      "needs_background": "light"
     },
     "output_type": "display_data"
    }
   ],
   "source": [
    "# Crear el gráfico de violín para todos los pingüinos\n",
    "plt.figure(figsize=(10, 6))\n",
    "sns.violinplot(data=penguins, y=\"flipper_length_mm\", color=\"gray\")\n",
    "plt.title(\"Gráfico de Violín del Largo de la Aleta para Todos los Pingüinos\")\n",
    "plt.ylabel(\"Largo de la Aleta (mm)\")\n",
    "plt.show()\n"
   ]
  },
  {
   "cell_type": "code",
   "execution_count": 49,
   "metadata": {},
   "outputs": [
    {
     "data": {
      "image/png": "[encoded data removed]",
      "text/plain": [
       "<Figure size 864x432 with 1 Axes>"
      ]
     },
     "metadata": {
      "needs_background": "light"
     },
     "output_type": "display_data"
    }
   ],
   "source": [
    "# Crear gráficos de violín separados por tipo de pingüino\n",
    "plt.figure(figsize=(12, 6))\n",
    "sns.violinplot(data=penguins, x=\"species\", y=\"flipper_length_mm\", palette=\"Set3\")\n",
    "plt.title(\"Gráficos de Violín del Largo de la Aleta por Tipo de Pingüino\")\n",
    "plt.xlabel(\"Tipo de Pingüino\")\n",
    "plt.ylabel(\"Largo de la Aleta (mm)\")\n",
    "plt.show()"
   ]
  },
  {
   "cell_type": "markdown",
   "metadata": {},
   "source": [
    "**Complete la actividad:**\n",
    "\n",
    "1. Considere las caracteristicas bill_length_mm y bill_depth_mm.\n",
    "   1. Describa su tendencia central.\n",
    "   2. Describa su variabilidad\n",
    "   3. Realice una tabla resumen de las estadisticas despritivas\n",
    "   4.  Realice graficos para describir la distribucion de cada caracteristicas.\n",
    "2. Elija una de las caracteristicas y realicemos comparaciones entre los diferentes tipos de pinguinos."
   ]
  },
  {
   "cell_type": "markdown",
   "metadata": {},
   "source": [
    "# Análisis multivariado\n",
    "\n",
    "Dos variables numéricas\n",
    "\n",
    "## Grafico de dispersión \n",
    "\n"
   ]
  },
  {
   "cell_type": "code",
   "execution_count": 54,
   "metadata": {},
   "outputs": [
    {
     "name": "stderr",
     "output_type": "stream",
     "text": [
      "No artists with labels found to put in legend.  Note that artists whose label start with an underscore are ignored when legend() is called with no argument.\n"
     ]
    },
    {
     "data": {
      "image/png": "[encoded data removed]",
      "text/plain": [
       "<Figure size 576x432 with 1 Axes>"
      ]
     },
     "metadata": {
      "needs_background": "light"
     },
     "output_type": "display_data"
    }
   ],
   "source": [
    "# Crear el gráfico de dispersión\n",
    "plt.figure(figsize=(8, 6))\n",
    "sns.scatterplot(data=penguins, x=\"flipper_length_mm\", y=\"body_mass_g\")\n",
    "plt.title(\"Gráfico de Dispersión entre Peso y Largo de la Aleta\")\n",
    "plt.xlabel(\"Largo de la Aleta (mm)\")\n",
    "plt.ylabel(\"Peso (g)\")\n",
    "plt.legend()\n",
    "plt.show()"
   ]
  },
  {
   "cell_type": "code",
   "execution_count": 53,
   "metadata": {},
   "outputs": [
    {
     "data": {
      "image/png": "[encoded data removed]",
      "text/plain": [
       "<Figure size 576x432 with 1 Axes>"
      ]
     },
     "metadata": {
      "needs_background": "light"
     },
     "output_type": "display_data"
    }
   ],
   "source": [
    "# Crear el gráfico de dispersión\n",
    "plt.figure(figsize=(8, 6))\n",
    "sns.scatterplot(data=penguins, x=\"flipper_length_mm\", y=\"body_mass_g\", hue=\"species\", palette=\"Set2\")\n",
    "plt.title(\"Gráfico de Dispersión entre Peso y Largo de la Aleta\")\n",
    "plt.xlabel(\"Largo de la Aleta (mm)\")\n",
    "plt.ylabel(\"Peso (g)\")\n",
    "plt.legend()\n",
    "plt.show()"
   ]
  },
  {
   "cell_type": "markdown",
   "metadata": {},
   "source": [
    "Actividad 1: Continuación:\n",
    "\n",
    "\n",
    "3. Elija de las 4 caracetiristicas y haga un grafico de dispersion entre ellas y calcule la covarianza y coeficiente de correlación. Interprete. \n",
    "\n",
    "\n",
    "4. Repita para los diferentes tipos de pinguinos.¿Se mantienen los resultados anteriores? Compaere.\n",
    "\n",
    "5. Repita para las diferentes tipos de pinguinos, en las diferentes islas.¿Se mantienen los resultados anteriores? Compaere."
   ]
  }
 ],
 "metadata": {
  "kernelspec": {
   "display_name": "Python 3",
   "language": "python",
   "name": "python3"
  },
  "language_info": {
   "codemirror_mode": {
    "name": "ipython",
    "version": 3
   },
   "file_extension": ".py",
   "mimetype": "text/x-python",
   "name": "python",
   "nbconvert_exporter": "python",
   "pygments_lexer": "ipython3",
   "version": "3.9.1"
  },
  "orig_nbformat": 4
 },
 "nbformat": 4,
 "nbformat_minor": 2
}
